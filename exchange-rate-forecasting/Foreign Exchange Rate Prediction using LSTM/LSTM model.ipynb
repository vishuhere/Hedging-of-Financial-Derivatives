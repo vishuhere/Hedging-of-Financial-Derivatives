{
 "cells": [
  {
   "cell_type": "code",
   "execution_count": 1,
   "id": "8a171ab3",
   "metadata": {},
   "outputs": [],
   "source": [
    "#Importing Linraries\n",
    "import pandas as pd\n",
    "import numpy as np\n",
    "import matplotlib.pyplot as plt\n",
    "%matplotlib inline\n",
    "import tensorflow as tf\n",
    "import keras"
   ]
  },
  {
   "cell_type": "code",
   "execution_count": 2,
   "id": "06150fd9",
   "metadata": {},
   "outputs": [
    {
     "data": {
      "text/html": [
       "<div>\n",
       "<style scoped>\n",
       "    .dataframe tbody tr th:only-of-type {\n",
       "        vertical-align: middle;\n",
       "    }\n",
       "\n",
       "    .dataframe tbody tr th {\n",
       "        vertical-align: top;\n",
       "    }\n",
       "\n",
       "    .dataframe thead th {\n",
       "        text-align: right;\n",
       "    }\n",
       "</style>\n",
       "<table border=\"1\" class=\"dataframe\">\n",
       "  <thead>\n",
       "    <tr style=\"text-align: right;\">\n",
       "      <th></th>\n",
       "      <th>Unnamed: 0</th>\n",
       "      <th>Time Serie</th>\n",
       "      <th>AUSTRALIA - AUSTRALIAN DOLLAR/US$</th>\n",
       "      <th>EURO AREA - EURO/US$</th>\n",
       "      <th>NEW ZEALAND - NEW ZELAND DOLLAR/US$</th>\n",
       "      <th>UNITED KINGDOM - UNITED KINGDOM POUND/US$</th>\n",
       "      <th>BRAZIL - REAL/US$</th>\n",
       "      <th>CANADA - CANADIAN DOLLAR/US$</th>\n",
       "      <th>CHINA - YUAN/US$</th>\n",
       "      <th>HONG KONG - HONG KONG DOLLAR/US$</th>\n",
       "      <th>...</th>\n",
       "      <th>SINGAPORE - SINGAPORE DOLLAR/US$</th>\n",
       "      <th>DENMARK - DANISH KRONE/US$</th>\n",
       "      <th>JAPAN - YEN/US$</th>\n",
       "      <th>MALAYSIA - RINGGIT/US$</th>\n",
       "      <th>NORWAY - NORWEGIAN KRONE/US$</th>\n",
       "      <th>SWEDEN - KRONA/US$</th>\n",
       "      <th>SRI LANKA - SRI LANKAN RUPEE/US$</th>\n",
       "      <th>SWITZERLAND - FRANC/US$</th>\n",
       "      <th>TAIWAN - NEW TAIWAN DOLLAR/US$</th>\n",
       "      <th>THAILAND - BAHT/US$</th>\n",
       "    </tr>\n",
       "  </thead>\n",
       "  <tbody>\n",
       "    <tr>\n",
       "      <th>0</th>\n",
       "      <td>0</td>\n",
       "      <td>2000-01-03</td>\n",
       "      <td>1.5172</td>\n",
       "      <td>0.9847</td>\n",
       "      <td>1.9033</td>\n",
       "      <td>0.6146</td>\n",
       "      <td>1.8050</td>\n",
       "      <td>1.4465</td>\n",
       "      <td>8.2798</td>\n",
       "      <td>7.7765</td>\n",
       "      <td>...</td>\n",
       "      <td>1.6563</td>\n",
       "      <td>7.3290</td>\n",
       "      <td>101.70</td>\n",
       "      <td>3.8000</td>\n",
       "      <td>7.9640</td>\n",
       "      <td>8.4430</td>\n",
       "      <td>72.30</td>\n",
       "      <td>1.5808</td>\n",
       "      <td>31.38</td>\n",
       "      <td>36.97</td>\n",
       "    </tr>\n",
       "    <tr>\n",
       "      <th>1</th>\n",
       "      <td>1</td>\n",
       "      <td>2000-01-04</td>\n",
       "      <td>1.5239</td>\n",
       "      <td>0.9700</td>\n",
       "      <td>1.9238</td>\n",
       "      <td>0.6109</td>\n",
       "      <td>1.8405</td>\n",
       "      <td>1.4518</td>\n",
       "      <td>8.2799</td>\n",
       "      <td>7.7775</td>\n",
       "      <td>...</td>\n",
       "      <td>1.6535</td>\n",
       "      <td>7.2180</td>\n",
       "      <td>103.09</td>\n",
       "      <td>3.8000</td>\n",
       "      <td>7.9340</td>\n",
       "      <td>8.3600</td>\n",
       "      <td>72.65</td>\n",
       "      <td>1.5565</td>\n",
       "      <td>30.60</td>\n",
       "      <td>37.13</td>\n",
       "    </tr>\n",
       "    <tr>\n",
       "      <th>2</th>\n",
       "      <td>2</td>\n",
       "      <td>2000-01-05</td>\n",
       "      <td>1.5267</td>\n",
       "      <td>0.9676</td>\n",
       "      <td>1.9339</td>\n",
       "      <td>0.6092</td>\n",
       "      <td>1.8560</td>\n",
       "      <td>1.4518</td>\n",
       "      <td>8.2798</td>\n",
       "      <td>7.7780</td>\n",
       "      <td>...</td>\n",
       "      <td>1.6560</td>\n",
       "      <td>7.2080</td>\n",
       "      <td>103.77</td>\n",
       "      <td>3.8000</td>\n",
       "      <td>7.9350</td>\n",
       "      <td>8.3530</td>\n",
       "      <td>72.95</td>\n",
       "      <td>1.5526</td>\n",
       "      <td>30.80</td>\n",
       "      <td>37.10</td>\n",
       "    </tr>\n",
       "    <tr>\n",
       "      <th>3</th>\n",
       "      <td>3</td>\n",
       "      <td>2000-01-06</td>\n",
       "      <td>1.5291</td>\n",
       "      <td>0.9686</td>\n",
       "      <td>1.9436</td>\n",
       "      <td>0.6070</td>\n",
       "      <td>1.8400</td>\n",
       "      <td>1.4571</td>\n",
       "      <td>8.2797</td>\n",
       "      <td>7.7785</td>\n",
       "      <td>...</td>\n",
       "      <td>1.6655</td>\n",
       "      <td>7.2125</td>\n",
       "      <td>105.19</td>\n",
       "      <td>3.8000</td>\n",
       "      <td>7.9400</td>\n",
       "      <td>8.3675</td>\n",
       "      <td>72.95</td>\n",
       "      <td>1.5540</td>\n",
       "      <td>31.75</td>\n",
       "      <td>37.62</td>\n",
       "    </tr>\n",
       "    <tr>\n",
       "      <th>4</th>\n",
       "      <td>4</td>\n",
       "      <td>2000-01-07</td>\n",
       "      <td>1.5272</td>\n",
       "      <td>0.9714</td>\n",
       "      <td>1.9380</td>\n",
       "      <td>0.6104</td>\n",
       "      <td>1.8310</td>\n",
       "      <td>1.4505</td>\n",
       "      <td>8.2794</td>\n",
       "      <td>7.7783</td>\n",
       "      <td>...</td>\n",
       "      <td>1.6625</td>\n",
       "      <td>7.2285</td>\n",
       "      <td>105.17</td>\n",
       "      <td>3.8000</td>\n",
       "      <td>7.9660</td>\n",
       "      <td>8.4150</td>\n",
       "      <td>73.15</td>\n",
       "      <td>1.5623</td>\n",
       "      <td>30.85</td>\n",
       "      <td>37.30</td>\n",
       "    </tr>\n",
       "    <tr>\n",
       "      <th>...</th>\n",
       "      <td>...</td>\n",
       "      <td>...</td>\n",
       "      <td>...</td>\n",
       "      <td>...</td>\n",
       "      <td>...</td>\n",
       "      <td>...</td>\n",
       "      <td>...</td>\n",
       "      <td>...</td>\n",
       "      <td>...</td>\n",
       "      <td>...</td>\n",
       "      <td>...</td>\n",
       "      <td>...</td>\n",
       "      <td>...</td>\n",
       "      <td>...</td>\n",
       "      <td>...</td>\n",
       "      <td>...</td>\n",
       "      <td>...</td>\n",
       "      <td>...</td>\n",
       "      <td>...</td>\n",
       "      <td>...</td>\n",
       "      <td>...</td>\n",
       "    </tr>\n",
       "    <tr>\n",
       "      <th>5212</th>\n",
       "      <td>5212</td>\n",
       "      <td>2019-12-25</td>\n",
       "      <td>NaN</td>\n",
       "      <td>NaN</td>\n",
       "      <td>NaN</td>\n",
       "      <td>NaN</td>\n",
       "      <td>NaN</td>\n",
       "      <td>NaN</td>\n",
       "      <td>NaN</td>\n",
       "      <td>NaN</td>\n",
       "      <td>...</td>\n",
       "      <td>NaN</td>\n",
       "      <td>NaN</td>\n",
       "      <td>NaN</td>\n",
       "      <td>NaN</td>\n",
       "      <td>NaN</td>\n",
       "      <td>NaN</td>\n",
       "      <td>NaN</td>\n",
       "      <td>NaN</td>\n",
       "      <td>NaN</td>\n",
       "      <td>NaN</td>\n",
       "    </tr>\n",
       "    <tr>\n",
       "      <th>5213</th>\n",
       "      <td>5213</td>\n",
       "      <td>2019-12-26</td>\n",
       "      <td>1.4411</td>\n",
       "      <td>0.9007</td>\n",
       "      <td>1.5002</td>\n",
       "      <td>0.7688</td>\n",
       "      <td>4.0602</td>\n",
       "      <td>1.3124</td>\n",
       "      <td>6.9949</td>\n",
       "      <td>7.7880</td>\n",
       "      <td>...</td>\n",
       "      <td>1.3540</td>\n",
       "      <td>6.7295</td>\n",
       "      <td>109.67</td>\n",
       "      <td>4.1337</td>\n",
       "      <td>8.8799</td>\n",
       "      <td>9.4108</td>\n",
       "      <td>181.30</td>\n",
       "      <td>0.9808</td>\n",
       "      <td>30.11</td>\n",
       "      <td>30.15</td>\n",
       "    </tr>\n",
       "    <tr>\n",
       "      <th>5214</th>\n",
       "      <td>5214</td>\n",
       "      <td>2019-12-27</td>\n",
       "      <td>1.4331</td>\n",
       "      <td>0.8949</td>\n",
       "      <td>1.4919</td>\n",
       "      <td>0.7639</td>\n",
       "      <td>4.0507</td>\n",
       "      <td>1.3073</td>\n",
       "      <td>6.9954</td>\n",
       "      <td>7.7874</td>\n",
       "      <td>...</td>\n",
       "      <td>1.3520</td>\n",
       "      <td>6.6829</td>\n",
       "      <td>109.47</td>\n",
       "      <td>4.1260</td>\n",
       "      <td>8.8291</td>\n",
       "      <td>9.3405</td>\n",
       "      <td>181.35</td>\n",
       "      <td>0.9741</td>\n",
       "      <td>30.09</td>\n",
       "      <td>30.14</td>\n",
       "    </tr>\n",
       "    <tr>\n",
       "      <th>5215</th>\n",
       "      <td>5215</td>\n",
       "      <td>2019-12-30</td>\n",
       "      <td>1.4278</td>\n",
       "      <td>0.8915</td>\n",
       "      <td>1.4846</td>\n",
       "      <td>0.7610</td>\n",
       "      <td>4.0152</td>\n",
       "      <td>1.3058</td>\n",
       "      <td>6.9864</td>\n",
       "      <td>7.7857</td>\n",
       "      <td>...</td>\n",
       "      <td>1.3483</td>\n",
       "      <td>6.6589</td>\n",
       "      <td>108.85</td>\n",
       "      <td>4.1053</td>\n",
       "      <td>8.7839</td>\n",
       "      <td>9.3145</td>\n",
       "      <td>181.60</td>\n",
       "      <td>0.9677</td>\n",
       "      <td>30.04</td>\n",
       "      <td>29.94</td>\n",
       "    </tr>\n",
       "    <tr>\n",
       "      <th>5216</th>\n",
       "      <td>5216</td>\n",
       "      <td>2019-12-31</td>\n",
       "      <td>1.4225</td>\n",
       "      <td>0.8907</td>\n",
       "      <td>1.4826</td>\n",
       "      <td>0.7536</td>\n",
       "      <td>4.0190</td>\n",
       "      <td>1.2962</td>\n",
       "      <td>6.9618</td>\n",
       "      <td>7.7894</td>\n",
       "      <td>...</td>\n",
       "      <td>1.3446</td>\n",
       "      <td>6.6554</td>\n",
       "      <td>108.67</td>\n",
       "      <td>4.0918</td>\n",
       "      <td>8.7823</td>\n",
       "      <td>9.3425</td>\n",
       "      <td>181.30</td>\n",
       "      <td>0.9677</td>\n",
       "      <td>29.91</td>\n",
       "      <td>29.75</td>\n",
       "    </tr>\n",
       "  </tbody>\n",
       "</table>\n",
       "<p>5217 rows × 24 columns</p>\n",
       "</div>"
      ],
      "text/plain": [
       "      Unnamed: 0  Time Serie  AUSTRALIA - AUSTRALIAN DOLLAR/US$  \\\n",
       "0              0  2000-01-03                             1.5172   \n",
       "1              1  2000-01-04                             1.5239   \n",
       "2              2  2000-01-05                             1.5267   \n",
       "3              3  2000-01-06                             1.5291   \n",
       "4              4  2000-01-07                             1.5272   \n",
       "...          ...         ...                                ...   \n",
       "5212        5212  2019-12-25                                NaN   \n",
       "5213        5213  2019-12-26                             1.4411   \n",
       "5214        5214  2019-12-27                             1.4331   \n",
       "5215        5215  2019-12-30                             1.4278   \n",
       "5216        5216  2019-12-31                             1.4225   \n",
       "\n",
       "      EURO AREA - EURO/US$  NEW ZEALAND - NEW ZELAND DOLLAR/US$  \\\n",
       "0                   0.9847                               1.9033   \n",
       "1                   0.9700                               1.9238   \n",
       "2                   0.9676                               1.9339   \n",
       "3                   0.9686                               1.9436   \n",
       "4                   0.9714                               1.9380   \n",
       "...                    ...                                  ...   \n",
       "5212                   NaN                                  NaN   \n",
       "5213                0.9007                               1.5002   \n",
       "5214                0.8949                               1.4919   \n",
       "5215                0.8915                               1.4846   \n",
       "5216                0.8907                               1.4826   \n",
       "\n",
       "      UNITED KINGDOM - UNITED KINGDOM POUND/US$  BRAZIL - REAL/US$  \\\n",
       "0                                        0.6146             1.8050   \n",
       "1                                        0.6109             1.8405   \n",
       "2                                        0.6092             1.8560   \n",
       "3                                        0.6070             1.8400   \n",
       "4                                        0.6104             1.8310   \n",
       "...                                         ...                ...   \n",
       "5212                                        NaN                NaN   \n",
       "5213                                     0.7688             4.0602   \n",
       "5214                                     0.7639             4.0507   \n",
       "5215                                     0.7610             4.0152   \n",
       "5216                                     0.7536             4.0190   \n",
       "\n",
       "      CANADA - CANADIAN DOLLAR/US$  CHINA - YUAN/US$  \\\n",
       "0                           1.4465            8.2798   \n",
       "1                           1.4518            8.2799   \n",
       "2                           1.4518            8.2798   \n",
       "3                           1.4571            8.2797   \n",
       "4                           1.4505            8.2794   \n",
       "...                            ...               ...   \n",
       "5212                           NaN               NaN   \n",
       "5213                        1.3124            6.9949   \n",
       "5214                        1.3073            6.9954   \n",
       "5215                        1.3058            6.9864   \n",
       "5216                        1.2962            6.9618   \n",
       "\n",
       "      HONG KONG - HONG KONG DOLLAR/US$  ...  SINGAPORE - SINGAPORE DOLLAR/US$  \\\n",
       "0                               7.7765  ...                            1.6563   \n",
       "1                               7.7775  ...                            1.6535   \n",
       "2                               7.7780  ...                            1.6560   \n",
       "3                               7.7785  ...                            1.6655   \n",
       "4                               7.7783  ...                            1.6625   \n",
       "...                                ...  ...                               ...   \n",
       "5212                               NaN  ...                               NaN   \n",
       "5213                            7.7880  ...                            1.3540   \n",
       "5214                            7.7874  ...                            1.3520   \n",
       "5215                            7.7857  ...                            1.3483   \n",
       "5216                            7.7894  ...                            1.3446   \n",
       "\n",
       "      DENMARK - DANISH KRONE/US$  JAPAN - YEN/US$  MALAYSIA - RINGGIT/US$  \\\n",
       "0                         7.3290           101.70                  3.8000   \n",
       "1                         7.2180           103.09                  3.8000   \n",
       "2                         7.2080           103.77                  3.8000   \n",
       "3                         7.2125           105.19                  3.8000   \n",
       "4                         7.2285           105.17                  3.8000   \n",
       "...                          ...              ...                     ...   \n",
       "5212                         NaN              NaN                     NaN   \n",
       "5213                      6.7295           109.67                  4.1337   \n",
       "5214                      6.6829           109.47                  4.1260   \n",
       "5215                      6.6589           108.85                  4.1053   \n",
       "5216                      6.6554           108.67                  4.0918   \n",
       "\n",
       "      NORWAY - NORWEGIAN KRONE/US$  SWEDEN - KRONA/US$  \\\n",
       "0                           7.9640              8.4430   \n",
       "1                           7.9340              8.3600   \n",
       "2                           7.9350              8.3530   \n",
       "3                           7.9400              8.3675   \n",
       "4                           7.9660              8.4150   \n",
       "...                            ...                 ...   \n",
       "5212                           NaN                 NaN   \n",
       "5213                        8.8799              9.4108   \n",
       "5214                        8.8291              9.3405   \n",
       "5215                        8.7839              9.3145   \n",
       "5216                        8.7823              9.3425   \n",
       "\n",
       "      SRI LANKA - SRI LANKAN RUPEE/US$  SWITZERLAND - FRANC/US$  \\\n",
       "0                                72.30                   1.5808   \n",
       "1                                72.65                   1.5565   \n",
       "2                                72.95                   1.5526   \n",
       "3                                72.95                   1.5540   \n",
       "4                                73.15                   1.5623   \n",
       "...                                ...                      ...   \n",
       "5212                               NaN                      NaN   \n",
       "5213                            181.30                   0.9808   \n",
       "5214                            181.35                   0.9741   \n",
       "5215                            181.60                   0.9677   \n",
       "5216                            181.30                   0.9677   \n",
       "\n",
       "      TAIWAN - NEW TAIWAN DOLLAR/US$  THAILAND - BAHT/US$  \n",
       "0                              31.38                36.97  \n",
       "1                              30.60                37.13  \n",
       "2                              30.80                37.10  \n",
       "3                              31.75                37.62  \n",
       "4                              30.85                37.30  \n",
       "...                              ...                  ...  \n",
       "5212                             NaN                  NaN  \n",
       "5213                           30.11                30.15  \n",
       "5214                           30.09                30.14  \n",
       "5215                           30.04                29.94  \n",
       "5216                           29.91                29.75  \n",
       "\n",
       "[5217 rows x 24 columns]"
      ]
     },
     "execution_count": 2,
     "metadata": {},
     "output_type": "execute_result"
    }
   ],
   "source": [
    "#Reading dataset\n",
    "data_set = pd.read_csv('Foreign_Exchange_Rates.csv', na_values='ND')\n",
    "data_set"
   ]
  },
  {
   "cell_type": "code",
   "execution_count": 3,
   "id": "7da2e448",
   "metadata": {},
   "outputs": [
    {
     "data": {
      "text/plain": [
       "(5217, 24)"
      ]
     },
     "execution_count": 3,
     "metadata": {},
     "output_type": "execute_result"
    }
   ],
   "source": [
    "data_set.shape"
   ]
  },
  {
   "cell_type": "code",
   "execution_count": 4,
   "id": "1a6fb07f",
   "metadata": {},
   "outputs": [
    {
     "data": {
      "text/html": [
       "<div>\n",
       "<style scoped>\n",
       "    .dataframe tbody tr th:only-of-type {\n",
       "        vertical-align: middle;\n",
       "    }\n",
       "\n",
       "    .dataframe tbody tr th {\n",
       "        vertical-align: top;\n",
       "    }\n",
       "\n",
       "    .dataframe thead th {\n",
       "        text-align: right;\n",
       "    }\n",
       "</style>\n",
       "<table border=\"1\" class=\"dataframe\">\n",
       "  <thead>\n",
       "    <tr style=\"text-align: right;\">\n",
       "      <th></th>\n",
       "      <th>Unnamed: 0</th>\n",
       "      <th>Time Serie</th>\n",
       "      <th>AUSTRALIA - AUSTRALIAN DOLLAR/US$</th>\n",
       "      <th>EURO AREA - EURO/US$</th>\n",
       "      <th>NEW ZEALAND - NEW ZELAND DOLLAR/US$</th>\n",
       "      <th>UNITED KINGDOM - UNITED KINGDOM POUND/US$</th>\n",
       "      <th>BRAZIL - REAL/US$</th>\n",
       "      <th>CANADA - CANADIAN DOLLAR/US$</th>\n",
       "      <th>CHINA - YUAN/US$</th>\n",
       "      <th>HONG KONG - HONG KONG DOLLAR/US$</th>\n",
       "      <th>...</th>\n",
       "      <th>SINGAPORE - SINGAPORE DOLLAR/US$</th>\n",
       "      <th>DENMARK - DANISH KRONE/US$</th>\n",
       "      <th>JAPAN - YEN/US$</th>\n",
       "      <th>MALAYSIA - RINGGIT/US$</th>\n",
       "      <th>NORWAY - NORWEGIAN KRONE/US$</th>\n",
       "      <th>SWEDEN - KRONA/US$</th>\n",
       "      <th>SRI LANKA - SRI LANKAN RUPEE/US$</th>\n",
       "      <th>SWITZERLAND - FRANC/US$</th>\n",
       "      <th>TAIWAN - NEW TAIWAN DOLLAR/US$</th>\n",
       "      <th>THAILAND - BAHT/US$</th>\n",
       "    </tr>\n",
       "  </thead>\n",
       "  <tbody>\n",
       "    <tr>\n",
       "      <th>0</th>\n",
       "      <td>0</td>\n",
       "      <td>2000-01-03</td>\n",
       "      <td>1.5172</td>\n",
       "      <td>0.9847</td>\n",
       "      <td>1.9033</td>\n",
       "      <td>0.6146</td>\n",
       "      <td>1.8050</td>\n",
       "      <td>1.4465</td>\n",
       "      <td>8.2798</td>\n",
       "      <td>7.7765</td>\n",
       "      <td>...</td>\n",
       "      <td>1.6563</td>\n",
       "      <td>7.3290</td>\n",
       "      <td>101.70</td>\n",
       "      <td>3.8</td>\n",
       "      <td>7.964</td>\n",
       "      <td>8.4430</td>\n",
       "      <td>72.30</td>\n",
       "      <td>1.5808</td>\n",
       "      <td>31.38</td>\n",
       "      <td>36.97</td>\n",
       "    </tr>\n",
       "    <tr>\n",
       "      <th>1</th>\n",
       "      <td>1</td>\n",
       "      <td>2000-01-04</td>\n",
       "      <td>1.5239</td>\n",
       "      <td>0.9700</td>\n",
       "      <td>1.9238</td>\n",
       "      <td>0.6109</td>\n",
       "      <td>1.8405</td>\n",
       "      <td>1.4518</td>\n",
       "      <td>8.2799</td>\n",
       "      <td>7.7775</td>\n",
       "      <td>...</td>\n",
       "      <td>1.6535</td>\n",
       "      <td>7.2180</td>\n",
       "      <td>103.09</td>\n",
       "      <td>3.8</td>\n",
       "      <td>7.934</td>\n",
       "      <td>8.3600</td>\n",
       "      <td>72.65</td>\n",
       "      <td>1.5565</td>\n",
       "      <td>30.60</td>\n",
       "      <td>37.13</td>\n",
       "    </tr>\n",
       "    <tr>\n",
       "      <th>2</th>\n",
       "      <td>2</td>\n",
       "      <td>2000-01-05</td>\n",
       "      <td>1.5267</td>\n",
       "      <td>0.9676</td>\n",
       "      <td>1.9339</td>\n",
       "      <td>0.6092</td>\n",
       "      <td>1.8560</td>\n",
       "      <td>1.4518</td>\n",
       "      <td>8.2798</td>\n",
       "      <td>7.7780</td>\n",
       "      <td>...</td>\n",
       "      <td>1.6560</td>\n",
       "      <td>7.2080</td>\n",
       "      <td>103.77</td>\n",
       "      <td>3.8</td>\n",
       "      <td>7.935</td>\n",
       "      <td>8.3530</td>\n",
       "      <td>72.95</td>\n",
       "      <td>1.5526</td>\n",
       "      <td>30.80</td>\n",
       "      <td>37.10</td>\n",
       "    </tr>\n",
       "    <tr>\n",
       "      <th>3</th>\n",
       "      <td>3</td>\n",
       "      <td>2000-01-06</td>\n",
       "      <td>1.5291</td>\n",
       "      <td>0.9686</td>\n",
       "      <td>1.9436</td>\n",
       "      <td>0.6070</td>\n",
       "      <td>1.8400</td>\n",
       "      <td>1.4571</td>\n",
       "      <td>8.2797</td>\n",
       "      <td>7.7785</td>\n",
       "      <td>...</td>\n",
       "      <td>1.6655</td>\n",
       "      <td>7.2125</td>\n",
       "      <td>105.19</td>\n",
       "      <td>3.8</td>\n",
       "      <td>7.940</td>\n",
       "      <td>8.3675</td>\n",
       "      <td>72.95</td>\n",
       "      <td>1.5540</td>\n",
       "      <td>31.75</td>\n",
       "      <td>37.62</td>\n",
       "    </tr>\n",
       "    <tr>\n",
       "      <th>4</th>\n",
       "      <td>4</td>\n",
       "      <td>2000-01-07</td>\n",
       "      <td>1.5272</td>\n",
       "      <td>0.9714</td>\n",
       "      <td>1.9380</td>\n",
       "      <td>0.6104</td>\n",
       "      <td>1.8310</td>\n",
       "      <td>1.4505</td>\n",
       "      <td>8.2794</td>\n",
       "      <td>7.7783</td>\n",
       "      <td>...</td>\n",
       "      <td>1.6625</td>\n",
       "      <td>7.2285</td>\n",
       "      <td>105.17</td>\n",
       "      <td>3.8</td>\n",
       "      <td>7.966</td>\n",
       "      <td>8.4150</td>\n",
       "      <td>73.15</td>\n",
       "      <td>1.5623</td>\n",
       "      <td>30.85</td>\n",
       "      <td>37.30</td>\n",
       "    </tr>\n",
       "  </tbody>\n",
       "</table>\n",
       "<p>5 rows × 24 columns</p>\n",
       "</div>"
      ],
      "text/plain": [
       "   Unnamed: 0  Time Serie  AUSTRALIA - AUSTRALIAN DOLLAR/US$  \\\n",
       "0           0  2000-01-03                             1.5172   \n",
       "1           1  2000-01-04                             1.5239   \n",
       "2           2  2000-01-05                             1.5267   \n",
       "3           3  2000-01-06                             1.5291   \n",
       "4           4  2000-01-07                             1.5272   \n",
       "\n",
       "   EURO AREA - EURO/US$  NEW ZEALAND - NEW ZELAND DOLLAR/US$  \\\n",
       "0                0.9847                               1.9033   \n",
       "1                0.9700                               1.9238   \n",
       "2                0.9676                               1.9339   \n",
       "3                0.9686                               1.9436   \n",
       "4                0.9714                               1.9380   \n",
       "\n",
       "   UNITED KINGDOM - UNITED KINGDOM POUND/US$  BRAZIL - REAL/US$  \\\n",
       "0                                     0.6146             1.8050   \n",
       "1                                     0.6109             1.8405   \n",
       "2                                     0.6092             1.8560   \n",
       "3                                     0.6070             1.8400   \n",
       "4                                     0.6104             1.8310   \n",
       "\n",
       "   CANADA - CANADIAN DOLLAR/US$  CHINA - YUAN/US$  \\\n",
       "0                        1.4465            8.2798   \n",
       "1                        1.4518            8.2799   \n",
       "2                        1.4518            8.2798   \n",
       "3                        1.4571            8.2797   \n",
       "4                        1.4505            8.2794   \n",
       "\n",
       "   HONG KONG - HONG KONG DOLLAR/US$  ...  SINGAPORE - SINGAPORE DOLLAR/US$  \\\n",
       "0                            7.7765  ...                            1.6563   \n",
       "1                            7.7775  ...                            1.6535   \n",
       "2                            7.7780  ...                            1.6560   \n",
       "3                            7.7785  ...                            1.6655   \n",
       "4                            7.7783  ...                            1.6625   \n",
       "\n",
       "   DENMARK - DANISH KRONE/US$  JAPAN - YEN/US$  MALAYSIA - RINGGIT/US$  \\\n",
       "0                      7.3290           101.70                     3.8   \n",
       "1                      7.2180           103.09                     3.8   \n",
       "2                      7.2080           103.77                     3.8   \n",
       "3                      7.2125           105.19                     3.8   \n",
       "4                      7.2285           105.17                     3.8   \n",
       "\n",
       "   NORWAY - NORWEGIAN KRONE/US$  SWEDEN - KRONA/US$  \\\n",
       "0                         7.964              8.4430   \n",
       "1                         7.934              8.3600   \n",
       "2                         7.935              8.3530   \n",
       "3                         7.940              8.3675   \n",
       "4                         7.966              8.4150   \n",
       "\n",
       "   SRI LANKA - SRI LANKAN RUPEE/US$  SWITZERLAND - FRANC/US$  \\\n",
       "0                             72.30                   1.5808   \n",
       "1                             72.65                   1.5565   \n",
       "2                             72.95                   1.5526   \n",
       "3                             72.95                   1.5540   \n",
       "4                             73.15                   1.5623   \n",
       "\n",
       "   TAIWAN - NEW TAIWAN DOLLAR/US$  THAILAND - BAHT/US$  \n",
       "0                           31.38                36.97  \n",
       "1                           30.60                37.13  \n",
       "2                           30.80                37.10  \n",
       "3                           31.75                37.62  \n",
       "4                           30.85                37.30  \n",
       "\n",
       "[5 rows x 24 columns]"
      ]
     },
     "execution_count": 4,
     "metadata": {},
     "output_type": "execute_result"
    }
   ],
   "source": [
    "#Dataset head\n",
    "data_set.head()"
   ]
  },
  {
   "cell_type": "code",
   "execution_count": 5,
   "id": "01d46141",
   "metadata": {},
   "outputs": [
    {
     "data": {
      "text/plain": [
       "Unnamed: 0                                     0\n",
       "Time Serie                                     0\n",
       "AUSTRALIA - AUSTRALIAN DOLLAR/US$            198\n",
       "EURO AREA - EURO/US$                         198\n",
       "NEW ZEALAND - NEW ZELAND DOLLAR/US$          198\n",
       "UNITED KINGDOM - UNITED KINGDOM POUND/US$    198\n",
       "BRAZIL - REAL/US$                            198\n",
       "CANADA - CANADIAN DOLLAR/US$                 198\n",
       "CHINA - YUAN/US$                             197\n",
       "HONG KONG - HONG KONG DOLLAR/US$             198\n",
       "INDIA - INDIAN RUPEE/US$                     199\n",
       "KOREA - WON/US$                              198\n",
       "MEXICO - MEXICAN PESO/US$                    198\n",
       "SOUTH AFRICA - RAND/US$                      198\n",
       "SINGAPORE - SINGAPORE DOLLAR/US$             198\n",
       "DENMARK - DANISH KRONE/US$                   198\n",
       "JAPAN - YEN/US$                              198\n",
       "MALAYSIA - RINGGIT/US$                       198\n",
       "NORWAY - NORWEGIAN KRONE/US$                 198\n",
       "SWEDEN - KRONA/US$                           198\n",
       "SRI LANKA - SRI LANKAN RUPEE/US$             198\n",
       "SWITZERLAND - FRANC/US$                      198\n",
       "TAIWAN - NEW TAIWAN DOLLAR/US$               201\n",
       "THAILAND - BAHT/US$                          198\n",
       "dtype: int64"
      ]
     },
     "execution_count": 5,
     "metadata": {},
     "output_type": "execute_result"
    }
   ],
   "source": [
    "#Checking null values\n",
    "data_set.isnull().sum()"
   ]
  },
  {
   "cell_type": "code",
   "execution_count": 6,
   "id": "0505a1fb",
   "metadata": {},
   "outputs": [
    {
     "data": {
      "text/plain": [
       "Unnamed: 0                                   0\n",
       "Time Serie                                   0\n",
       "AUSTRALIA - AUSTRALIAN DOLLAR/US$            0\n",
       "EURO AREA - EURO/US$                         0\n",
       "NEW ZEALAND - NEW ZELAND DOLLAR/US$          0\n",
       "UNITED KINGDOM - UNITED KINGDOM POUND/US$    0\n",
       "BRAZIL - REAL/US$                            0\n",
       "CANADA - CANADIAN DOLLAR/US$                 0\n",
       "CHINA - YUAN/US$                             0\n",
       "HONG KONG - HONG KONG DOLLAR/US$             0\n",
       "INDIA - INDIAN RUPEE/US$                     0\n",
       "KOREA - WON/US$                              0\n",
       "MEXICO - MEXICAN PESO/US$                    0\n",
       "SOUTH AFRICA - RAND/US$                      0\n",
       "SINGAPORE - SINGAPORE DOLLAR/US$             0\n",
       "DENMARK - DANISH KRONE/US$                   0\n",
       "JAPAN - YEN/US$                              0\n",
       "MALAYSIA - RINGGIT/US$                       0\n",
       "NORWAY - NORWEGIAN KRONE/US$                 0\n",
       "SWEDEN - KRONA/US$                           0\n",
       "SRI LANKA - SRI LANKAN RUPEE/US$             0\n",
       "SWITZERLAND - FRANC/US$                      0\n",
       "TAIWAN - NEW TAIWAN DOLLAR/US$               0\n",
       "THAILAND - BAHT/US$                          0\n",
       "dtype: int64"
      ]
     },
     "execution_count": 6,
     "metadata": {},
     "output_type": "execute_result"
    }
   ],
   "source": [
    "data_set.interpolate(inplace=True)\n",
    "data_set.isnull().sum()"
   ]
  },
  {
   "cell_type": "code",
   "execution_count": 7,
   "id": "b3141cf1",
   "metadata": {},
   "outputs": [
    {
     "data": {
      "text/plain": [
       "[<matplotlib.lines.Line2D at 0x15cb87d50>]"
      ]
     },
     "execution_count": 7,
     "metadata": {},
     "output_type": "execute_result"
    },
    {
     "data": {
      "image/png": "[encoded data removed]",
      "text/plain": [
       "<Figure size 640x480 with 1 Axes>"
      ]
     },
     "metadata": {},
     "output_type": "display_data"
    }
   ],
   "source": [
    "#Plotting Indian Exchange rate\n",
    "plt.plot(data_set['INDIA - INDIAN RUPEE/US$'])"
   ]
  },
  {
   "cell_type": "code",
   "execution_count": 8,
   "id": "2fb9952b",
   "metadata": {},
   "outputs": [
    {
     "data": {
      "text/plain": [
       "0       43.550\n",
       "1       43.550\n",
       "2       43.550\n",
       "3       43.550\n",
       "4       43.550\n",
       "         ...  \n",
       "5212    71.255\n",
       "5213    71.280\n",
       "5214    71.450\n",
       "5215    71.300\n",
       "5216    71.360\n",
       "Name: INDIA - INDIAN RUPEE/US$, Length: 5217, dtype: float64"
      ]
     },
     "execution_count": 8,
     "metadata": {},
     "output_type": "execute_result"
    }
   ],
   "source": [
    "#Data frame\n",
    "df = data_set['INDIA - INDIAN RUPEE/US$']\n",
    "df"
   ]
  },
  {
   "cell_type": "code",
   "execution_count": 10,
   "id": "a939717c",
   "metadata": {},
   "outputs": [
    {
     "data": {
      "text/plain": [
       "array([[43.55],\n",
       "       [43.55],\n",
       "       [43.55],\n",
       "       ...,\n",
       "       [71.45],\n",
       "       [71.3 ],\n",
       "       [71.36]])"
      ]
     },
     "execution_count": 10,
     "metadata": {},
     "output_type": "execute_result"
    }
   ],
   "source": [
    "#Preprocessing data set\n",
    "df = np.array(df).reshape(-1,1)\n",
    "df"
   ]
  },
  {
   "cell_type": "code",
   "execution_count": 11,
   "id": "17da3210",
   "metadata": {},
   "outputs": [],
   "source": [
    "from sklearn.preprocessing import MinMaxScaler\n",
    "scaler = MinMaxScaler()"
   ]
  },
  {
   "cell_type": "code",
   "execution_count": 12,
   "id": "861a4ba3",
   "metadata": {},
   "outputs": [],
   "source": [
    "df = scaler.fit_transform(df)"
   ]
  },
  {
   "cell_type": "code",
   "execution_count": 13,
   "id": "8c680eca",
   "metadata": {},
   "outputs": [
    {
     "name": "stdout",
     "output_type": "stream",
     "text": [
      "(4800, 1)\n",
      "(417, 1)\n"
     ]
    }
   ],
   "source": [
    "#Training and test sets\n",
    "train = df[:4800]\n",
    "test = df[4800:]\n",
    "\n",
    "print(train.shape)\n",
    "print(test.shape)"
   ]
  },
  {
   "cell_type": "code",
   "execution_count": 17,
   "id": "8d100b23",
   "metadata": {},
   "outputs": [],
   "source": [
    "def get_data(data, look_back):\n",
    "  datax, datay = [],[]\n",
    "  for i in range(len(data)-look_back-1):\n",
    "    datax.append(data[i:(i+look_back),0])\n",
    "    datay.append(data[i+look_back,0])\n",
    "  return np.array(datax) , np.array(datay)"
   ]
  },
  {
   "cell_type": "code",
   "execution_count": 18,
   "id": "01e35519",
   "metadata": {},
   "outputs": [
    {
     "name": "stdout",
     "output_type": "stream",
     "text": [
      "(4798, 1)\n",
      "(4798,)\n"
     ]
    }
   ],
   "source": [
    "look_back = 1\n",
    "\n",
    "x_train , y_train = get_data(train, look_back)\n",
    "print(x_train.shape)\n",
    "print(y_train.shape)"
   ]
  },
  {
   "cell_type": "code",
   "execution_count": 19,
   "id": "6d292476",
   "metadata": {},
   "outputs": [
    {
     "name": "stdout",
     "output_type": "stream",
     "text": [
      "(415, 1)\n",
      "(415,)\n"
     ]
    }
   ],
   "source": [
    "x_test , y_test = get_data(test,look_back)\n",
    "print(x_test.shape)\n",
    "print(y_test.shape)"
   ]
  },
  {
   "cell_type": "code",
   "execution_count": 20,
   "id": "2af9445c",
   "metadata": {},
   "outputs": [],
   "source": [
    "#Processing train and test sets for LSTM model\n",
    "x_train = x_train.reshape(x_train.shape[0],x_train.shape[1], 1)\n",
    "x_test = x_test.reshape(x_test.shape[0],x_test.shape[1], 1)"
   ]
  },
  {
   "cell_type": "code",
   "execution_count": 21,
   "id": "3614f169",
   "metadata": {},
   "outputs": [
    {
     "name": "stdout",
     "output_type": "stream",
     "text": [
      "(4798, 1, 1)\n",
      "(415, 1, 1)\n"
     ]
    }
   ],
   "source": [
    "print(x_train.shape)\n",
    "print(x_test.shape)"
   ]
  },
  {
   "cell_type": "code",
   "execution_count": 22,
   "id": "aa77e46d",
   "metadata": {},
   "outputs": [],
   "source": [
    "#Defining the LSTM model\n",
    "from keras.models import Sequential\n",
    "from keras.layers import Dense,LSTM"
   ]
  },
  {
   "cell_type": "code",
   "execution_count": 23,
   "id": "372b3494",
   "metadata": {},
   "outputs": [],
   "source": [
    "n_features=x_train.shape[1]\n",
    "model=Sequential()\n",
    "model.add(LSTM(100,activation='relu',input_shape=(1,1)))\n",
    "model.add(Dense(n_features))"
   ]
  },
  {
   "cell_type": "code",
   "execution_count": 24,
   "id": "6ff75d44",
   "metadata": {},
   "outputs": [
    {
     "name": "stdout",
     "output_type": "stream",
     "text": [
      "Model: \"sequential\"\n",
      "_________________________________________________________________\n",
      " Layer (type)                Output Shape              Param #   \n",
      "=================================================================\n",
      " lstm (LSTM)                 (None, 100)               40800     \n",
      "                                                                 \n",
      " dense (Dense)               (None, 1)                 101       \n",
      "                                                                 \n",
      "=================================================================\n",
      "Total params: 40901 (159.77 KB)\n",
      "Trainable params: 40901 (159.77 KB)\n",
      "Non-trainable params: 0 (0.00 Byte)\n",
      "_________________________________________________________________\n"
     ]
    }
   ],
   "source": [
    "model.summary()"
   ]
  },
  {
   "cell_type": "code",
   "execution_count": 25,
   "id": "d172b313",
   "metadata": {},
   "outputs": [],
   "source": [
    "#Compiling\n",
    "model.compile(optimizer='adam', loss = 'mse')"
   ]
  },
  {
   "cell_type": "code",
   "execution_count": 26,
   "id": "7875f829",
   "metadata": {},
   "outputs": [
    {
     "name": "stdout",
     "output_type": "stream",
     "text": [
      "Epoch 1/5\n",
      "4798/4798 [==============================] - 2s 405us/step - loss: 0.0046\n",
      "Epoch 2/5\n",
      "4798/4798 [==============================] - 2s 403us/step - loss: 7.7877e-05\n",
      "Epoch 3/5\n",
      "4798/4798 [==============================] - 2s 403us/step - loss: 6.5361e-05\n",
      "Epoch 4/5\n",
      "4798/4798 [==============================] - 2s 406us/step - loss: 6.3924e-05\n",
      "Epoch 5/5\n",
      "4798/4798 [==============================] - 2s 405us/step - loss: 6.1647e-05\n"
     ]
    },
    {
     "data": {
      "text/plain": [
       "<keras.src.callbacks.History at 0x15d053b90>"
      ]
     },
     "execution_count": 26,
     "metadata": {},
     "output_type": "execute_result"
    }
   ],
   "source": [
    "#Training\n",
    "model.fit(x_train,y_train, epochs = 5, batch_size=1)"
   ]
  },
  {
   "cell_type": "code",
   "execution_count": 27,
   "id": "8eab05e0",
   "metadata": {},
   "outputs": [
    {
     "data": {
      "text/plain": [
       "array([0.027894])"
      ]
     },
     "execution_count": 27,
     "metadata": {},
     "output_type": "execute_result"
    }
   ],
   "source": [
    "#Prediction using the trained model\n",
    "scaler.scale_"
   ]
  },
  {
   "cell_type": "code",
   "execution_count": 28,
   "id": "65961dfc",
   "metadata": {},
   "outputs": [
    {
     "name": "stdout",
     "output_type": "stream",
     "text": [
      "13/13 [==============================] - 0s 439us/step\n",
      "[[67.92176 ]\n",
      " [67.92176 ]\n",
      " [67.600685]\n",
      " [67.5405  ]\n",
      " [67.129326]\n",
      " [67.18948 ]\n",
      " [67.25967 ]\n",
      " [67.00902 ]\n",
      " [67.3399  ]\n",
      " [67.701004]]\n"
     ]
    }
   ],
   "source": [
    "y_pred = model.predict(x_test)\n",
    "y_pred = scaler.inverse_transform(y_pred)\n",
    "print(y_pred[:10])"
   ]
  },
  {
   "cell_type": "code",
   "execution_count": 29,
   "id": "7b385e21",
   "metadata": {},
   "outputs": [
    {
     "name": "stdout",
     "output_type": "stream",
     "text": [
      "[[67.78]\n",
      " [67.46]\n",
      " [67.4 ]\n",
      " [66.99]\n",
      " [67.05]\n",
      " [67.12]\n",
      " [66.87]\n",
      " [67.2 ]\n",
      " [67.56]\n",
      " [67.46]]\n"
     ]
    }
   ],
   "source": [
    "#Processing test shape\n",
    "y_test = np.array(y_test).reshape(-1,1)\n",
    "y_test = scaler.inverse_transform(y_test)\n",
    "print(y_test[:10])"
   ]
  },
  {
   "cell_type": "code",
   "execution_count": 30,
   "id": "bd4c5ab1",
   "metadata": {},
   "outputs": [
    {
     "data": {
      "text/plain": [
       "<matplotlib.legend.Legend at 0x12272cad0>"
      ]
     },
     "execution_count": 30,
     "metadata": {},
     "output_type": "execute_result"
    },
    {
     "data": {
      "image/png": "[encoded data removed]",
      "text/plain": [
       "<Figure size 1000x500 with 1 Axes>"
      ]
     },
     "metadata": {},
     "output_type": "display_data"
    }
   ],
   "source": [
    "#Visualizing the results\n",
    "plt.figure(figsize=(10,5))\n",
    "plt.title('Foreign Exchange Rate of India')\n",
    "plt.plot(y_test , label = 'Actual', color = 'g')\n",
    "plt.plot(y_pred , label = 'Predicted', color = 'r')\n",
    "plt.legend()"
   ]
  },
  {
   "cell_type": "code",
   "execution_count": 31,
   "id": "02d4fee7",
   "metadata": {},
   "outputs": [
    {
     "data": {
      "text/plain": [
       "0.0993192714465868"
      ]
     },
     "execution_count": 31,
     "metadata": {},
     "output_type": "execute_result"
    }
   ],
   "source": [
    "from sklearn.metrics import mean_squared_error\n",
    "mean_squared_error(y_test, y_pred)"
   ]
  }
 ],
 "metadata": {
  "kernelspec": {
   "display_name": "Python 3 (ipykernel)",
   "language": "python",
   "name": "python3"
  },
  "language_info": {
   "codemirror_mode": {
    "name": "ipython",
    "version": 3
   },
   "file_extension": ".py",
   "mimetype": "text/x-python",
   "name": "python",
   "nbconvert_exporter": "python",
   "pygments_lexer": "ipython3",
   "version": "3.11.5"
  }
 },
 "nbformat": 4,
 "nbformat_minor": 5
}
