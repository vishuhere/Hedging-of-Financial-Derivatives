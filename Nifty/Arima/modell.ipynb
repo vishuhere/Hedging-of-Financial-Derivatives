{
  "cells": [
    {
      "cell_type": "code",
      "execution_count": 24,
      "id": "ae19ad6d",
      "metadata": {
        "colab": {
          "base_uri": "https://localhost:8080/"
        },
        "id": "ae19ad6d",
        "outputId": "ddf878c0-7119-4d4c-e4a7-f4a83aa3c050"
      },
      "outputs": [
        {
          "output_type": "stream",
          "name": "stdout",
          "text": [
            "Requirement already satisfied: pmdarima in /usr/local/lib/python3.10/dist-packages (2.0.4)\n",
            "Requirement already satisfied: joblib>=0.11 in /usr/local/lib/python3.10/dist-packages (from pmdarima) (1.4.2)\n",
            "Requirement already satisfied: Cython!=0.29.18,!=0.29.31,>=0.29 in /usr/local/lib/python3.10/dist-packages (from pmdarima) (3.0.10)\n",
            "Requirement already satisfied: numpy>=1.21.2 in /usr/local/lib/python3.10/dist-packages (from pmdarima) (1.25.2)\n",
            "Requirement already satisfied: pandas>=0.19 in /usr/local/lib/python3.10/dist-packages (from pmdarima) (2.0.3)\n",
            "Requirement already satisfied: scikit-learn>=0.22 in /usr/local/lib/python3.10/dist-packages (from pmdarima) (1.2.2)\n",
            "Requirement already satisfied: scipy>=1.3.2 in /usr/local/lib/python3.10/dist-packages (from pmdarima) (1.11.4)\n",
            "Requirement already satisfied: statsmodels>=0.13.2 in /usr/local/lib/python3.10/dist-packages (from pmdarima) (0.14.2)\n",
            "Requirement already satisfied: urllib3 in /usr/local/lib/python3.10/dist-packages (from pmdarima) (2.0.7)\n",
            "Requirement already satisfied: setuptools!=50.0.0,>=38.6.0 in /usr/local/lib/python3.10/dist-packages (from pmdarima) (67.7.2)\n",
            "Requirement already satisfied: packaging>=17.1 in /usr/local/lib/python3.10/dist-packages (from pmdarima) (24.0)\n",
            "Requirement already satisfied: python-dateutil>=2.8.2 in /usr/local/lib/python3.10/dist-packages (from pandas>=0.19->pmdarima) (2.8.2)\n",
            "Requirement already satisfied: pytz>=2020.1 in /usr/local/lib/python3.10/dist-packages (from pandas>=0.19->pmdarima) (2023.4)\n",
            "Requirement already satisfied: tzdata>=2022.1 in /usr/local/lib/python3.10/dist-packages (from pandas>=0.19->pmdarima) (2024.1)\n",
            "Requirement already satisfied: threadpoolctl>=2.0.0 in /usr/local/lib/python3.10/dist-packages (from scikit-learn>=0.22->pmdarima) (3.5.0)\n",
            "Requirement already satisfied: patsy>=0.5.6 in /usr/local/lib/python3.10/dist-packages (from statsmodels>=0.13.2->pmdarima) (0.5.6)\n",
            "Requirement already satisfied: six in /usr/local/lib/python3.10/dist-packages (from patsy>=0.5.6->statsmodels>=0.13.2->pmdarima) (1.16.0)\n"
          ]
        }
      ],
      "source": [
        "pip install pmdarima"
      ]
    },
    {
      "cell_type": "code",
      "execution_count": 25,
      "id": "ad5cfaeb",
      "metadata": {
        "id": "ad5cfaeb"
      },
      "outputs": [],
      "source": [
        "import numpy as np\n",
        "import pandas as pd\n",
        "import matplotlib.pyplot as plt\n",
        "from sklearn.metrics import mean_absolute_error, mean_squared_error\n",
        "import warnings\n",
        "from pmdarima import auto_arima\n",
        "from statsmodels.tsa.arima.model import ARIMA"
      ]
    },
    {
      "cell_type": "code",
      "execution_count": 26,
      "id": "ee077ed8",
      "metadata": {
        "id": "ee077ed8"
      },
      "outputs": [],
      "source": [
        "df = pd.read_csv('NIFTY__50.csv',index_col='Date',parse_dates=True)"
      ]
    },
    {
      "cell_type": "code",
      "execution_count": 27,
      "id": "9e86445b",
      "metadata": {
        "colab": {
          "base_uri": "https://localhost:8080/",
          "height": 238
        },
        "id": "9e86445b",
        "outputId": "2eb93ffa-5f81-4257-b406-b8052095e3ab"
      },
      "outputs": [
        {
          "output_type": "execute_result",
          "data": {
            "text/plain": [
              "           Index Name Open High Low   Close\n",
              "Date                                       \n",
              "1995-01-02   NIFTY 50    -    -   -  1182.1\n",
              "1995-01-03   NIFTY 50    -    -   -  1176.8\n",
              "1995-01-04   NIFTY 50    -    -   -  1163.7\n",
              "1995-01-05   NIFTY 50    -    -   -  1150.0\n",
              "1995-01-06   NIFTY 50    -    -   -  1130.3"
            ],
            "text/html": [
              "\n",
              "  <div id=\"df-691c9904-2b10-4dbd-9c43-572324290a77\" class=\"colab-df-container\">\n",
              "    <div>\n",
              "<style scoped>\n",
              "    .dataframe tbody tr th:only-of-type {\n",
              "        vertical-align: middle;\n",
              "    }\n",
              "\n",
              "    .dataframe tbody tr th {\n",
              "        vertical-align: top;\n",
              "    }\n",
              "\n",
              "    .dataframe thead th {\n",
              "        text-align: right;\n",
              "    }\n",
              "</style>\n",
              "<table border=\"1\" class=\"dataframe\">\n",
              "  <thead>\n",
              "    <tr style=\"text-align: right;\">\n",
              "      <th></th>\n",
              "      <th>Index Name</th>\n",
              "      <th>Open</th>\n",
              "      <th>High</th>\n",
              "      <th>Low</th>\n",
              "      <th>Close</th>\n",
              "    </tr>\n",
              "    <tr>\n",
              "      <th>Date</th>\n",
              "      <th></th>\n",
              "      <th></th>\n",
              "      <th></th>\n",
              "      <th></th>\n",
              "      <th></th>\n",
              "    </tr>\n",
              "  </thead>\n",
              "  <tbody>\n",
              "    <tr>\n",
              "      <th>1995-01-02</th>\n",
              "      <td>NIFTY 50</td>\n",
              "      <td>-</td>\n",
              "      <td>-</td>\n",
              "      <td>-</td>\n",
              "      <td>1182.1</td>\n",
              "    </tr>\n",
              "    <tr>\n",
              "      <th>1995-01-03</th>\n",
              "      <td>NIFTY 50</td>\n",
              "      <td>-</td>\n",
              "      <td>-</td>\n",
              "      <td>-</td>\n",
              "      <td>1176.8</td>\n",
              "    </tr>\n",
              "    <tr>\n",
              "      <th>1995-01-04</th>\n",
              "      <td>NIFTY 50</td>\n",
              "      <td>-</td>\n",
              "      <td>-</td>\n",
              "      <td>-</td>\n",
              "      <td>1163.7</td>\n",
              "    </tr>\n",
              "    <tr>\n",
              "      <th>1995-01-05</th>\n",
              "      <td>NIFTY 50</td>\n",
              "      <td>-</td>\n",
              "      <td>-</td>\n",
              "      <td>-</td>\n",
              "      <td>1150.0</td>\n",
              "    </tr>\n",
              "    <tr>\n",
              "      <th>1995-01-06</th>\n",
              "      <td>NIFTY 50</td>\n",
              "      <td>-</td>\n",
              "      <td>-</td>\n",
              "      <td>-</td>\n",
              "      <td>1130.3</td>\n",
              "    </tr>\n",
              "  </tbody>\n",
              "</table>\n",
              "</div>\n",
              "    <div class=\"colab-df-buttons\">\n",
              "\n",
              "  <div class=\"colab-df-container\">\n",
              "    <button class=\"colab-df-convert\" onclick=\"convertToInteractive('df-691c9904-2b10-4dbd-9c43-572324290a77')\"\n",
              "            title=\"Convert this dataframe to an interactive table.\"\n",
              "            style=\"display:none;\">\n",
              "\n",
              "  <svg xmlns=\"http://www.w3.org/2000/svg\" height=\"24px\" viewBox=\"0 -960 960 960\">\n",
              "    <path d=\"M120-120v-720h720v720H120Zm60-500h600v-160H180v160Zm220 220h160v-160H400v160Zm0 220h160v-160H400v160ZM180-400h160v-160H180v160Zm440 0h160v-160H620v160ZM180-180h160v-160H180v160Zm440 0h160v-160H620v160Z\"/>\n",
              "  </svg>\n",
              "    </button>\n",
              "\n",
              "  <style>\n",
              "    .colab-df-container {\n",
              "      display:flex;\n",
              "      gap: 12px;\n",
              "    }\n",
              "\n",
              "    .colab-df-convert {\n",
              "      background-color: #E8F0FE;\n",
              "      border: none;\n",
              "      border-radius: 50%;\n",
              "      cursor: pointer;\n",
              "      display: none;\n",
              "      fill: #1967D2;\n",
              "      height: 32px;\n",
              "      padding: 0 0 0 0;\n",
              "      width: 32px;\n",
              "    }\n",
              "\n",
              "    .colab-df-convert:hover {\n",
              "      background-color: #E2EBFA;\n",
              "      box-shadow: 0px 1px 2px rgba(60, 64, 67, 0.3), 0px 1px 3px 1px rgba(60, 64, 67, 0.15);\n",
              "      fill: #174EA6;\n",
              "    }\n",
              "\n",
              "    .colab-df-buttons div {\n",
              "      margin-bottom: 4px;\n",
              "    }\n",
              "\n",
              "    [theme=dark] .colab-df-convert {\n",
              "      background-color: #3B4455;\n",
              "      fill: #D2E3FC;\n",
              "    }\n",
              "\n",
              "    [theme=dark] .colab-df-convert:hover {\n",
              "      background-color: #434B5C;\n",
              "      box-shadow: 0px 1px 3px 1px rgba(0, 0, 0, 0.15);\n",
              "      filter: drop-shadow(0px 1px 2px rgba(0, 0, 0, 0.3));\n",
              "      fill: #FFFFFF;\n",
              "    }\n",
              "  </style>\n",
              "\n",
              "    <script>\n",
              "      const buttonEl =\n",
              "        document.querySelector('#df-691c9904-2b10-4dbd-9c43-572324290a77 button.colab-df-convert');\n",
              "      buttonEl.style.display =\n",
              "        google.colab.kernel.accessAllowed ? 'block' : 'none';\n",
              "\n",
              "      async function convertToInteractive(key) {\n",
              "        const element = document.querySelector('#df-691c9904-2b10-4dbd-9c43-572324290a77');\n",
              "        const dataTable =\n",
              "          await google.colab.kernel.invokeFunction('convertToInteractive',\n",
              "                                                    [key], {});\n",
              "        if (!dataTable) return;\n",
              "\n",
              "        const docLinkHtml = 'Like what you see? Visit the ' +\n",
              "          '<a target=\"_blank\" href=https://colab.research.google.com/notebooks/data_table.ipynb>data table notebook</a>'\n",
              "          + ' to learn more about interactive tables.';\n",
              "        element.innerHTML = '';\n",
              "        dataTable['output_type'] = 'display_data';\n",
              "        await google.colab.output.renderOutput(dataTable, element);\n",
              "        const docLink = document.createElement('div');\n",
              "        docLink.innerHTML = docLinkHtml;\n",
              "        element.appendChild(docLink);\n",
              "      }\n",
              "    </script>\n",
              "  </div>\n",
              "\n",
              "\n",
              "<div id=\"df-ff52fabd-f719-47db-9261-707f4863608d\">\n",
              "  <button class=\"colab-df-quickchart\" onclick=\"quickchart('df-ff52fabd-f719-47db-9261-707f4863608d')\"\n",
              "            title=\"Suggest charts\"\n",
              "            style=\"display:none;\">\n",
              "\n",
              "<svg xmlns=\"http://www.w3.org/2000/svg\" height=\"24px\"viewBox=\"0 0 24 24\"\n",
              "     width=\"24px\">\n",
              "    <g>\n",
              "        <path d=\"M19 3H5c-1.1 0-2 .9-2 2v14c0 1.1.9 2 2 2h14c1.1 0 2-.9 2-2V5c0-1.1-.9-2-2-2zM9 17H7v-7h2v7zm4 0h-2V7h2v10zm4 0h-2v-4h2v4z\"/>\n",
              "    </g>\n",
              "</svg>\n",
              "  </button>\n",
              "\n",
              "<style>\n",
              "  .colab-df-quickchart {\n",
              "      --bg-color: #E8F0FE;\n",
              "      --fill-color: #1967D2;\n",
              "      --hover-bg-color: #E2EBFA;\n",
              "      --hover-fill-color: #174EA6;\n",
              "      --disabled-fill-color: #AAA;\n",
              "      --disabled-bg-color: #DDD;\n",
              "  }\n",
              "\n",
              "  [theme=dark] .colab-df-quickchart {\n",
              "      --bg-color: #3B4455;\n",
              "      --fill-color: #D2E3FC;\n",
              "      --hover-bg-color: #434B5C;\n",
              "      --hover-fill-color: #FFFFFF;\n",
              "      --disabled-bg-color: #3B4455;\n",
              "      --disabled-fill-color: #666;\n",
              "  }\n",
              "\n",
              "  .colab-df-quickchart {\n",
              "    background-color: var(--bg-color);\n",
              "    border: none;\n",
              "    border-radius: 50%;\n",
              "    cursor: pointer;\n",
              "    display: none;\n",
              "    fill: var(--fill-color);\n",
              "    height: 32px;\n",
              "    padding: 0;\n",
              "    width: 32px;\n",
              "  }\n",
              "\n",
              "  .colab-df-quickchart:hover {\n",
              "    background-color: var(--hover-bg-color);\n",
              "    box-shadow: 0 1px 2px rgba(60, 64, 67, 0.3), 0 1px 3px 1px rgba(60, 64, 67, 0.15);\n",
              "    fill: var(--button-hover-fill-color);\n",
              "  }\n",
              "\n",
              "  .colab-df-quickchart-complete:disabled,\n",
              "  .colab-df-quickchart-complete:disabled:hover {\n",
              "    background-color: var(--disabled-bg-color);\n",
              "    fill: var(--disabled-fill-color);\n",
              "    box-shadow: none;\n",
              "  }\n",
              "\n",
              "  .colab-df-spinner {\n",
              "    border: 2px solid var(--fill-color);\n",
              "    border-color: transparent;\n",
              "    border-bottom-color: var(--fill-color);\n",
              "    animation:\n",
              "      spin 1s steps(1) infinite;\n",
              "  }\n",
              "\n",
              "  @keyframes spin {\n",
              "    0% {\n",
              "      border-color: transparent;\n",
              "      border-bottom-color: var(--fill-color);\n",
              "      border-left-color: var(--fill-color);\n",
              "    }\n",
              "    20% {\n",
              "      border-color: transparent;\n",
              "      border-left-color: var(--fill-color);\n",
              "      border-top-color: var(--fill-color);\n",
              "    }\n",
              "    30% {\n",
              "      border-color: transparent;\n",
              "      border-left-color: var(--fill-color);\n",
              "      border-top-color: var(--fill-color);\n",
              "      border-right-color: var(--fill-color);\n",
              "    }\n",
              "    40% {\n",
              "      border-color: transparent;\n",
              "      border-right-color: var(--fill-color);\n",
              "      border-top-color: var(--fill-color);\n",
              "    }\n",
              "    60% {\n",
              "      border-color: transparent;\n",
              "      border-right-color: var(--fill-color);\n",
              "    }\n",
              "    80% {\n",
              "      border-color: transparent;\n",
              "      border-right-color: var(--fill-color);\n",
              "      border-bottom-color: var(--fill-color);\n",
              "    }\n",
              "    90% {\n",
              "      border-color: transparent;\n",
              "      border-bottom-color: var(--fill-color);\n",
              "    }\n",
              "  }\n",
              "</style>\n",
              "\n",
              "  <script>\n",
              "    async function quickchart(key) {\n",
              "      const quickchartButtonEl =\n",
              "        document.querySelector('#' + key + ' button');\n",
              "      quickchartButtonEl.disabled = true;  // To prevent multiple clicks.\n",
              "      quickchartButtonEl.classList.add('colab-df-spinner');\n",
              "      try {\n",
              "        const charts = await google.colab.kernel.invokeFunction(\n",
              "            'suggestCharts', [key], {});\n",
              "      } catch (error) {\n",
              "        console.error('Error during call to suggestCharts:', error);\n",
              "      }\n",
              "      quickchartButtonEl.classList.remove('colab-df-spinner');\n",
              "      quickchartButtonEl.classList.add('colab-df-quickchart-complete');\n",
              "    }\n",
              "    (() => {\n",
              "      let quickchartButtonEl =\n",
              "        document.querySelector('#df-ff52fabd-f719-47db-9261-707f4863608d button');\n",
              "      quickchartButtonEl.style.display =\n",
              "        google.colab.kernel.accessAllowed ? 'block' : 'none';\n",
              "    })();\n",
              "  </script>\n",
              "</div>\n",
              "\n",
              "    </div>\n",
              "  </div>\n"
            ],
            "application/vnd.google.colaboratory.intrinsic+json": {
              "type": "dataframe",
              "variable_name": "df",
              "summary": "{\n  \"name\": \"df\",\n  \"rows\": 7265,\n  \"fields\": [\n    {\n      \"column\": \"Date\",\n      \"properties\": {\n        \"dtype\": \"date\",\n        \"min\": \"1995-01-02 00:00:00\",\n        \"max\": \"2024-04-01 00:00:00\",\n        \"num_unique_values\": 7265,\n        \"samples\": [\n          \"2000-09-21 00:00:00\",\n          \"2012-03-13 00:00:00\",\n          \"2019-02-19 00:00:00\"\n        ],\n        \"semantic_type\": \"\",\n        \"description\": \"\"\n      }\n    },\n    {\n      \"column\": \"Index Name\",\n      \"properties\": {\n        \"dtype\": \"category\",\n        \"num_unique_values\": 1,\n        \"samples\": [\n          \"NIFTY 50\"\n        ],\n        \"semantic_type\": \"\",\n        \"description\": \"\"\n      }\n    },\n    {\n      \"column\": \"Open\",\n      \"properties\": {\n        \"dtype\": \"string\",\n        \"num_unique_values\": 6873,\n        \"samples\": [\n          \"1138.9\"\n        ],\n        \"semantic_type\": \"\",\n        \"description\": \"\"\n      }\n    },\n    {\n      \"column\": \"High\",\n      \"properties\": {\n        \"dtype\": \"string\",\n        \"num_unique_values\": 6892,\n        \"samples\": [\n          \"1344.5\"\n        ],\n        \"semantic_type\": \"\",\n        \"description\": \"\"\n      }\n    },\n    {\n      \"column\": \"Low\",\n      \"properties\": {\n        \"dtype\": \"string\",\n        \"num_unique_values\": 6866,\n        \"samples\": [\n          \"1055.5\"\n        ],\n        \"semantic_type\": \"\",\n        \"description\": \"\"\n      }\n    },\n    {\n      \"column\": \"Close\",\n      \"properties\": {\n        \"dtype\": \"number\",\n        \"std\": 5334.827748008293,\n        \"min\": 788.15,\n        \"max\": 22493.55,\n        \"num_unique_values\": 7039,\n        \"samples\": [\n          1032.15\n        ],\n        \"semantic_type\": \"\",\n        \"description\": \"\"\n      }\n    }\n  ]\n}"
            }
          },
          "metadata": {},
          "execution_count": 27
        }
      ],
      "source": [
        "df.head()"
      ]
    },
    {
      "cell_type": "code",
      "execution_count": 28,
      "id": "91e905a4",
      "metadata": {
        "colab": {
          "base_uri": "https://localhost:8080/"
        },
        "id": "91e905a4",
        "outputId": "6d2ce8c3-2636-4bd4-b395-89947d6172b5"
      },
      "outputs": [
        {
          "output_type": "execute_result",
          "data": {
            "text/plain": [
              "(7265, 5)"
            ]
          },
          "metadata": {},
          "execution_count": 28
        }
      ],
      "source": [
        "df.shape"
      ]
    },
    {
      "cell_type": "code",
      "execution_count": 29,
      "id": "2a8d8593",
      "metadata": {
        "colab": {
          "base_uri": "https://localhost:8080/",
          "height": 300
        },
        "id": "2a8d8593",
        "outputId": "c4fd80d1-1b8f-4634-a8e5-2f709af2d368"
      },
      "outputs": [
        {
          "output_type": "execute_result",
          "data": {
            "text/plain": [
              "              Close\n",
              "count   7265.000000\n",
              "mean    6035.542986\n",
              "std     5334.827748\n",
              "min      788.150000\n",
              "25%     1305.950000\n",
              "50%     4940.950000\n",
              "75%     8715.600000\n",
              "max    22493.550000"
            ],
            "text/html": [
              "\n",
              "  <div id=\"df-9462715c-98c8-477e-add4-89e712370523\" class=\"colab-df-container\">\n",
              "    <div>\n",
              "<style scoped>\n",
              "    .dataframe tbody tr th:only-of-type {\n",
              "        vertical-align: middle;\n",
              "    }\n",
              "\n",
              "    .dataframe tbody tr th {\n",
              "        vertical-align: top;\n",
              "    }\n",
              "\n",
              "    .dataframe thead th {\n",
              "        text-align: right;\n",
              "    }\n",
              "</style>\n",
              "<table border=\"1\" class=\"dataframe\">\n",
              "  <thead>\n",
              "    <tr style=\"text-align: right;\">\n",
              "      <th></th>\n",
              "      <th>Close</th>\n",
              "    </tr>\n",
              "  </thead>\n",
              "  <tbody>\n",
              "    <tr>\n",
              "      <th>count</th>\n",
              "      <td>7265.000000</td>\n",
              "    </tr>\n",
              "    <tr>\n",
              "      <th>mean</th>\n",
              "      <td>6035.542986</td>\n",
              "    </tr>\n",
              "    <tr>\n",
              "      <th>std</th>\n",
              "      <td>5334.827748</td>\n",
              "    </tr>\n",
              "    <tr>\n",
              "      <th>min</th>\n",
              "      <td>788.150000</td>\n",
              "    </tr>\n",
              "    <tr>\n",
              "      <th>25%</th>\n",
              "      <td>1305.950000</td>\n",
              "    </tr>\n",
              "    <tr>\n",
              "      <th>50%</th>\n",
              "      <td>4940.950000</td>\n",
              "    </tr>\n",
              "    <tr>\n",
              "      <th>75%</th>\n",
              "      <td>8715.600000</td>\n",
              "    </tr>\n",
              "    <tr>\n",
              "      <th>max</th>\n",
              "      <td>22493.550000</td>\n",
              "    </tr>\n",
              "  </tbody>\n",
              "</table>\n",
              "</div>\n",
              "    <div class=\"colab-df-buttons\">\n",
              "\n",
              "  <div class=\"colab-df-container\">\n",
              "    <button class=\"colab-df-convert\" onclick=\"convertToInteractive('df-9462715c-98c8-477e-add4-89e712370523')\"\n",
              "            title=\"Convert this dataframe to an interactive table.\"\n",
              "            style=\"display:none;\">\n",
              "\n",
              "  <svg xmlns=\"http://www.w3.org/2000/svg\" height=\"24px\" viewBox=\"0 -960 960 960\">\n",
              "    <path d=\"M120-120v-720h720v720H120Zm60-500h600v-160H180v160Zm220 220h160v-160H400v160Zm0 220h160v-160H400v160ZM180-400h160v-160H180v160Zm440 0h160v-160H620v160ZM180-180h160v-160H180v160Zm440 0h160v-160H620v160Z\"/>\n",
              "  </svg>\n",
              "    </button>\n",
              "\n",
              "  <style>\n",
              "    .colab-df-container {\n",
              "      display:flex;\n",
              "      gap: 12px;\n",
              "    }\n",
              "\n",
              "    .colab-df-convert {\n",
              "      background-color: #E8F0FE;\n",
              "      border: none;\n",
              "      border-radius: 50%;\n",
              "      cursor: pointer;\n",
              "      display: none;\n",
              "      fill: #1967D2;\n",
              "      height: 32px;\n",
              "      padding: 0 0 0 0;\n",
              "      width: 32px;\n",
              "    }\n",
              "\n",
              "    .colab-df-convert:hover {\n",
              "      background-color: #E2EBFA;\n",
              "      box-shadow: 0px 1px 2px rgba(60, 64, 67, 0.3), 0px 1px 3px 1px rgba(60, 64, 67, 0.15);\n",
              "      fill: #174EA6;\n",
              "    }\n",
              "\n",
              "    .colab-df-buttons div {\n",
              "      margin-bottom: 4px;\n",
              "    }\n",
              "\n",
              "    [theme=dark] .colab-df-convert {\n",
              "      background-color: #3B4455;\n",
              "      fill: #D2E3FC;\n",
              "    }\n",
              "\n",
              "    [theme=dark] .colab-df-convert:hover {\n",
              "      background-color: #434B5C;\n",
              "      box-shadow: 0px 1px 3px 1px rgba(0, 0, 0, 0.15);\n",
              "      filter: drop-shadow(0px 1px 2px rgba(0, 0, 0, 0.3));\n",
              "      fill: #FFFFFF;\n",
              "    }\n",
              "  </style>\n",
              "\n",
              "    <script>\n",
              "      const buttonEl =\n",
              "        document.querySelector('#df-9462715c-98c8-477e-add4-89e712370523 button.colab-df-convert');\n",
              "      buttonEl.style.display =\n",
              "        google.colab.kernel.accessAllowed ? 'block' : 'none';\n",
              "\n",
              "      async function convertToInteractive(key) {\n",
              "        const element = document.querySelector('#df-9462715c-98c8-477e-add4-89e712370523');\n",
              "        const dataTable =\n",
              "          await google.colab.kernel.invokeFunction('convertToInteractive',\n",
              "                                                    [key], {});\n",
              "        if (!dataTable) return;\n",
              "\n",
              "        const docLinkHtml = 'Like what you see? Visit the ' +\n",
              "          '<a target=\"_blank\" href=https://colab.research.google.com/notebooks/data_table.ipynb>data table notebook</a>'\n",
              "          + ' to learn more about interactive tables.';\n",
              "        element.innerHTML = '';\n",
              "        dataTable['output_type'] = 'display_data';\n",
              "        await google.colab.output.renderOutput(dataTable, element);\n",
              "        const docLink = document.createElement('div');\n",
              "        docLink.innerHTML = docLinkHtml;\n",
              "        element.appendChild(docLink);\n",
              "      }\n",
              "    </script>\n",
              "  </div>\n",
              "\n",
              "\n",
              "<div id=\"df-8df97aa1-4bcf-4fd8-935c-2e5b3b2a5d8f\">\n",
              "  <button class=\"colab-df-quickchart\" onclick=\"quickchart('df-8df97aa1-4bcf-4fd8-935c-2e5b3b2a5d8f')\"\n",
              "            title=\"Suggest charts\"\n",
              "            style=\"display:none;\">\n",
              "\n",
              "<svg xmlns=\"http://www.w3.org/2000/svg\" height=\"24px\"viewBox=\"0 0 24 24\"\n",
              "     width=\"24px\">\n",
              "    <g>\n",
              "        <path d=\"M19 3H5c-1.1 0-2 .9-2 2v14c0 1.1.9 2 2 2h14c1.1 0 2-.9 2-2V5c0-1.1-.9-2-2-2zM9 17H7v-7h2v7zm4 0h-2V7h2v10zm4 0h-2v-4h2v4z\"/>\n",
              "    </g>\n",
              "</svg>\n",
              "  </button>\n",
              "\n",
              "<style>\n",
              "  .colab-df-quickchart {\n",
              "      --bg-color: #E8F0FE;\n",
              "      --fill-color: #1967D2;\n",
              "      --hover-bg-color: #E2EBFA;\n",
              "      --hover-fill-color: #174EA6;\n",
              "      --disabled-fill-color: #AAA;\n",
              "      --disabled-bg-color: #DDD;\n",
              "  }\n",
              "\n",
              "  [theme=dark] .colab-df-quickchart {\n",
              "      --bg-color: #3B4455;\n",
              "      --fill-color: #D2E3FC;\n",
              "      --hover-bg-color: #434B5C;\n",
              "      --hover-fill-color: #FFFFFF;\n",
              "      --disabled-bg-color: #3B4455;\n",
              "      --disabled-fill-color: #666;\n",
              "  }\n",
              "\n",
              "  .colab-df-quickchart {\n",
              "    background-color: var(--bg-color);\n",
              "    border: none;\n",
              "    border-radius: 50%;\n",
              "    cursor: pointer;\n",
              "    display: none;\n",
              "    fill: var(--fill-color);\n",
              "    height: 32px;\n",
              "    padding: 0;\n",
              "    width: 32px;\n",
              "  }\n",
              "\n",
              "  .colab-df-quickchart:hover {\n",
              "    background-color: var(--hover-bg-color);\n",
              "    box-shadow: 0 1px 2px rgba(60, 64, 67, 0.3), 0 1px 3px 1px rgba(60, 64, 67, 0.15);\n",
              "    fill: var(--button-hover-fill-color);\n",
              "  }\n",
              "\n",
              "  .colab-df-quickchart-complete:disabled,\n",
              "  .colab-df-quickchart-complete:disabled:hover {\n",
              "    background-color: var(--disabled-bg-color);\n",
              "    fill: var(--disabled-fill-color);\n",
              "    box-shadow: none;\n",
              "  }\n",
              "\n",
              "  .colab-df-spinner {\n",
              "    border: 2px solid var(--fill-color);\n",
              "    border-color: transparent;\n",
              "    border-bottom-color: var(--fill-color);\n",
              "    animation:\n",
              "      spin 1s steps(1) infinite;\n",
              "  }\n",
              "\n",
              "  @keyframes spin {\n",
              "    0% {\n",
              "      border-color: transparent;\n",
              "      border-bottom-color: var(--fill-color);\n",
              "      border-left-color: var(--fill-color);\n",
              "    }\n",
              "    20% {\n",
              "      border-color: transparent;\n",
              "      border-left-color: var(--fill-color);\n",
              "      border-top-color: var(--fill-color);\n",
              "    }\n",
              "    30% {\n",
              "      border-color: transparent;\n",
              "      border-left-color: var(--fill-color);\n",
              "      border-top-color: var(--fill-color);\n",
              "      border-right-color: var(--fill-color);\n",
              "    }\n",
              "    40% {\n",
              "      border-color: transparent;\n",
              "      border-right-color: var(--fill-color);\n",
              "      border-top-color: var(--fill-color);\n",
              "    }\n",
              "    60% {\n",
              "      border-color: transparent;\n",
              "      border-right-color: var(--fill-color);\n",
              "    }\n",
              "    80% {\n",
              "      border-color: transparent;\n",
              "      border-right-color: var(--fill-color);\n",
              "      border-bottom-color: var(--fill-color);\n",
              "    }\n",
              "    90% {\n",
              "      border-color: transparent;\n",
              "      border-bottom-color: var(--fill-color);\n",
              "    }\n",
              "  }\n",
              "</style>\n",
              "\n",
              "  <script>\n",
              "    async function quickchart(key) {\n",
              "      const quickchartButtonEl =\n",
              "        document.querySelector('#' + key + ' button');\n",
              "      quickchartButtonEl.disabled = true;  // To prevent multiple clicks.\n",
              "      quickchartButtonEl.classList.add('colab-df-spinner');\n",
              "      try {\n",
              "        const charts = await google.colab.kernel.invokeFunction(\n",
              "            'suggestCharts', [key], {});\n",
              "      } catch (error) {\n",
              "        console.error('Error during call to suggestCharts:', error);\n",
              "      }\n",
              "      quickchartButtonEl.classList.remove('colab-df-spinner');\n",
              "      quickchartButtonEl.classList.add('colab-df-quickchart-complete');\n",
              "    }\n",
              "    (() => {\n",
              "      let quickchartButtonEl =\n",
              "        document.querySelector('#df-8df97aa1-4bcf-4fd8-935c-2e5b3b2a5d8f button');\n",
              "      quickchartButtonEl.style.display =\n",
              "        google.colab.kernel.accessAllowed ? 'block' : 'none';\n",
              "    })();\n",
              "  </script>\n",
              "</div>\n",
              "\n",
              "    </div>\n",
              "  </div>\n"
            ],
            "application/vnd.google.colaboratory.intrinsic+json": {
              "type": "dataframe",
              "summary": "{\n  \"name\": \"df\",\n  \"rows\": 8,\n  \"fields\": [\n    {\n      \"column\": \"Close\",\n      \"properties\": {\n        \"dtype\": \"number\",\n        \"std\": 6781.475219481742,\n        \"min\": 788.15,\n        \"max\": 22493.55,\n        \"num_unique_values\": 8,\n        \"samples\": [\n          6035.542985547144,\n          4940.95,\n          7265.0\n        ],\n        \"semantic_type\": \"\",\n        \"description\": \"\"\n      }\n    }\n  ]\n}"
            }
          },
          "metadata": {},
          "execution_count": 29
        }
      ],
      "source": [
        "df.describe()"
      ]
    },
    {
      "cell_type": "markdown",
      "id": "f17a2c8b",
      "metadata": {
        "id": "f17a2c8b"
      },
      "source": [
        "# Data Visualization"
      ]
    },
    {
      "cell_type": "code",
      "execution_count": 30,
      "id": "e0943c3f",
      "metadata": {
        "colab": {
          "base_uri": "https://localhost:8080/",
          "height": 304
        },
        "id": "e0943c3f",
        "outputId": "219815b5-29c7-4009-8983-2eac0897720a"
      },
      "outputs": [
        {
          "output_type": "execute_result",
          "data": {
            "text/plain": [
              "<Axes: xlabel='Date'>"
            ]
          },
          "metadata": {},
          "execution_count": 30
        },
        {
          "output_type": "display_data",
          "data": {
            "text/plain": [
              "<Figure size 1200x500 with 1 Axes>"
            ],
            "image/png": "[encoded data removed]"
          },
          "metadata": {}
        }
      ],
      "source": [
        "df['Close'].plot(figsize=(12,5))"
      ]
    },
    {
      "cell_type": "markdown",
      "id": "a22c4395",
      "metadata": {
        "id": "a22c4395"
      },
      "source": [
        "Data is Non-Stationary."
      ]
    },
    {
      "cell_type": "code",
      "execution_count": 31,
      "id": "6f7f212e-c0e5-4207-b892-70d60e21173b",
      "metadata": {
        "colab": {
          "base_uri": "https://localhost:8080/"
        },
        "id": "6f7f212e-c0e5-4207-b892-70d60e21173b",
        "outputId": "1c50f829-4a27-445b-e8ef-0837e60394d4"
      },
      "outputs": [
        {
          "output_type": "execute_result",
          "data": {
            "text/plain": [
              "Date\n",
              "1995-01-02         NaN\n",
              "1995-01-03     1182.10\n",
              "1995-01-04     1176.80\n",
              "1995-01-05     1163.70\n",
              "1995-01-06     1150.00\n",
              "                ...   \n",
              "2024-03-22    22011.95\n",
              "2024-03-26    22096.75\n",
              "2024-03-27    22004.70\n",
              "2024-03-28    22123.65\n",
              "2024-04-01    22326.90\n",
              "Name: Close, Length: 7265, dtype: float64"
            ]
          },
          "metadata": {},
          "execution_count": 31
        }
      ],
      "source": [
        "df['Close'].shift(1)"
      ]
    },
    {
      "cell_type": "code",
      "execution_count": 32,
      "id": "c7e5795e",
      "metadata": {
        "id": "c7e5795e"
      },
      "outputs": [],
      "source": [
        "df['Close_new']=df['Close'] - df['Close'].shift(1)"
      ]
    },
    {
      "cell_type": "code",
      "execution_count": 33,
      "id": "80338569",
      "metadata": {
        "id": "80338569"
      },
      "outputs": [],
      "source": [
        "# df.dropna(axis=0,inplace=True)\n",
        "df = df[1:]"
      ]
    },
    {
      "cell_type": "code",
      "execution_count": 34,
      "id": "7c555ae9",
      "metadata": {
        "colab": {
          "base_uri": "https://localhost:8080/",
          "height": 440
        },
        "id": "7c555ae9",
        "outputId": "909b9be8-34c9-437f-92c2-5c9c826d5296"
      },
      "outputs": [
        {
          "output_type": "execute_result",
          "data": {
            "text/plain": [
              "<Axes: xlabel='Date'>"
            ]
          },
          "metadata": {},
          "execution_count": 34
        },
        {
          "output_type": "display_data",
          "data": {
            "text/plain": [
              "<Figure size 640x480 with 1 Axes>"
            ],
            "image/png": "[encoded data removed]"
          },
          "metadata": {}
        }
      ],
      "source": [
        "df['Close_new'].plot()"
      ]
    },
    {
      "cell_type": "code",
      "execution_count": 35,
      "id": "364d84ee",
      "metadata": {
        "id": "364d84ee"
      },
      "outputs": [],
      "source": [
        "from statsmodels.tsa.stattools import adfuller\n",
        "\n",
        "def ad_test(dataset):\n",
        "    dftest = adfuller(dataset,autolag = 'AIC')\n",
        "    print(\"1.ADF:\",dftest[0])\n",
        "    print(\"2.P-value:\",dftest[1])\n",
        "    print(\"3.Num of Lags\",dftest[2])\n",
        "    print(\"4.Num of Observations Used for ADF Regression and Critical Values Calculation\",dftest[3])\n",
        "    print(\"5.Critical Values:\")\n",
        "    for key, val in dftest[4].items():\n",
        "        print(\"\\t\",key,\":\",val)"
      ]
    },
    {
      "cell_type": "code",
      "execution_count": 36,
      "id": "5f54f416",
      "metadata": {
        "colab": {
          "base_uri": "https://localhost:8080/"
        },
        "id": "5f54f416",
        "outputId": "083115bd-44bd-4115-cbe1-6a078a9ce024"
      },
      "outputs": [
        {
          "output_type": "stream",
          "name": "stdout",
          "text": [
            "1.ADF: -14.747478563690668\n",
            "2.P-value: 2.514988080979269e-27\n",
            "3.Num of Lags 36\n",
            "4.Num of Observations Used for ADF Regression and Critical Values Calculation 7227\n",
            "5.Critical Values:\n",
            "\t 1% : -3.431255164549562\n",
            "\t 5% : -2.8619400119863294\n",
            "\t 10% : -2.5669829221919653\n"
          ]
        }
      ],
      "source": [
        "ad_test(df['Close_new'])"
      ]
    },
    {
      "cell_type": "code",
      "execution_count": 37,
      "id": "b478fbf5",
      "metadata": {
        "id": "b478fbf5"
      },
      "outputs": [],
      "source": [
        "from pmdarima import auto_arima\n",
        "import warnings\n",
        "warnings.filterwarnings(\"ignore\")"
      ]
    },
    {
      "cell_type": "code",
      "execution_count": 15,
      "id": "a176bbe8",
      "metadata": {
        "colab": {
          "base_uri": "https://localhost:8080/",
          "height": 410
        },
        "id": "a176bbe8",
        "outputId": "561c0ea6-fad2-4e59-c2df-5b35e9974bba"
      },
      "outputs": [
        {
          "output_type": "stream",
          "name": "stdout",
          "text": [
            "Performing stepwise search to minimize aic\n",
            " ARIMA(2,1,2)(0,0,0)[0] intercept   : AIC=inf, Time=21.59 sec\n",
            " ARIMA(0,1,0)(0,0,0)[0] intercept   : AIC=89497.645, Time=0.46 sec\n",
            " ARIMA(1,1,0)(0,0,0)[0] intercept   : AIC=87548.967, Time=0.68 sec\n",
            " ARIMA(0,1,1)(0,0,0)[0] intercept   : AIC=inf, Time=6.71 sec\n",
            " ARIMA(0,1,0)(0,0,0)[0]             : AIC=89495.645, Time=0.25 sec\n",
            " ARIMA(2,1,0)(0,0,0)[0] intercept   : AIC=86804.953, Time=1.19 sec\n",
            " ARIMA(3,1,0)(0,0,0)[0] intercept   : AIC=86264.460, Time=2.98 sec\n",
            " ARIMA(4,1,0)(0,0,0)[0] intercept   : AIC=85868.674, Time=3.12 sec\n",
            " ARIMA(5,1,0)(0,0,0)[0] intercept   : AIC=85800.938, Time=2.90 sec\n",
            " ARIMA(5,1,1)(0,0,0)[0] intercept   : AIC=inf, Time=37.82 sec\n",
            " ARIMA(4,1,1)(0,0,0)[0] intercept   : AIC=inf, Time=11.48 sec\n",
            " ARIMA(5,1,0)(0,0,0)[0]             : AIC=85798.941, Time=1.18 sec\n",
            " ARIMA(4,1,0)(0,0,0)[0]             : AIC=85866.677, Time=1.24 sec\n",
            " ARIMA(5,1,1)(0,0,0)[0]             : AIC=inf, Time=17.69 sec\n",
            " ARIMA(4,1,1)(0,0,0)[0]             : AIC=inf, Time=11.26 sec\n",
            "\n",
            "Best model:  ARIMA(5,1,0)(0,0,0)[0]          \n",
            "Total fit time: 120.633 seconds\n"
          ]
        },
        {
          "output_type": "execute_result",
          "data": {
            "text/plain": [
              "'\\nAIC (Akaike Information Criterion) is a metric used to compare the goodness of fit of models while \\npenalizing for complexity. A lower AIC value indicates a better model.\\n'"
            ],
            "application/vnd.google.colaboratory.intrinsic+json": {
              "type": "string"
            }
          },
          "metadata": {},
          "execution_count": 15
        }
      ],
      "source": [
        "stepwise_fit = auto_arima(df['Close_new'], trace=True,suppress_warnings= True)\n",
        "stepwise_fit.summary()\n",
        "'''\n",
        "AIC (Akaike Information Criterion) is a metric used to compare the goodness of fit of models while\n",
        "penalizing for complexity. A lower AIC value indicates a better model.\n",
        "'''"
      ]
    },
    {
      "cell_type": "code",
      "execution_count": 16,
      "id": "3a4b78f4",
      "metadata": {
        "id": "3a4b78f4"
      },
      "outputs": [],
      "source": [
        "from statsmodels.tsa.arima.model import ARIMA"
      ]
    },
    {
      "cell_type": "code",
      "execution_count": 17,
      "id": "11e4f3f1",
      "metadata": {
        "colab": {
          "base_uri": "https://localhost:8080/"
        },
        "id": "11e4f3f1",
        "outputId": "7c6672f1-98f7-405e-abbb-07746cdae3a8"
      },
      "outputs": [
        {
          "output_type": "stream",
          "name": "stdout",
          "text": [
            "(7264, 6)\n",
            "(6864, 6) (400, 6)\n"
          ]
        }
      ],
      "source": [
        "#Split data into training and testing\n",
        "print(df.shape)\n",
        "train=df.iloc[:-400]\n",
        "test=df.iloc[-400:]\n",
        "print(train.shape,test.shape)"
      ]
    },
    {
      "cell_type": "code",
      "execution_count": 18,
      "id": "8bf7eadd",
      "metadata": {
        "colab": {
          "base_uri": "https://localhost:8080/",
          "height": 494
        },
        "id": "8bf7eadd",
        "outputId": "bf1ef63f-ff56-4a12-bc12-47dcfe46da4e"
      },
      "outputs": [
        {
          "output_type": "execute_result",
          "data": {
            "text/plain": [
              "<class 'statsmodels.iolib.summary.Summary'>\n",
              "\"\"\"\n",
              "                               SARIMAX Results                                \n",
              "==============================================================================\n",
              "Dep. Variable:              Close_new   No. Observations:                 6864\n",
              "Model:                 ARIMA(5, 1, 0)   Log Likelihood              -40179.627\n",
              "Date:                Wed, 05 Jun 2024   AIC                          80371.255\n",
              "Time:                        10:49:25   BIC                          80412.258\n",
              "Sample:                             0   HQIC                         80385.398\n",
              "                               - 6864                                         \n",
              "Covariance Type:                  opg                                         \n",
              "==============================================================================\n",
              "                 coef    std err          z      P>|z|      [0.025      0.975]\n",
              "------------------------------------------------------------------------------\n",
              "ar.L1         -0.8050      0.005   -168.898      0.000      -0.814      -0.796\n",
              "ar.L2         -0.6472      0.007    -94.758      0.000      -0.661      -0.634\n",
              "ar.L3         -0.4993      0.008    -63.675      0.000      -0.515      -0.484\n",
              "ar.L4         -0.3177      0.007    -43.311      0.000      -0.332      -0.303\n",
              "ar.L5         -0.1006      0.005    -19.005      0.000      -0.111      -0.090\n",
              "sigma2      7127.7764     44.689    159.497      0.000    7040.187    7215.366\n",
              "===================================================================================\n",
              "Ljung-Box (L1) (Q):                   2.32   Jarque-Bera (JB):             73620.34\n",
              "Prob(Q):                              0.13   Prob(JB):                         0.00\n",
              "Heteroskedasticity (H):              37.24   Skew:                             0.28\n",
              "Prob(H) (two-sided):                  0.00   Kurtosis:                        19.04\n",
              "===================================================================================\n",
              "\n",
              "Warnings:\n",
              "[1] Covariance matrix calculated using the outer product of gradients (complex-step).\n",
              "\"\"\""
            ],
            "text/html": [
              "<table class=\"simpletable\">\n",
              "<caption>SARIMAX Results</caption>\n",
              "<tr>\n",
              "  <th>Dep. Variable:</th>       <td>Close_new</td>    <th>  No. Observations:  </th>    <td>6864</td>   \n",
              "</tr>\n",
              "<tr>\n",
              "  <th>Model:</th>            <td>ARIMA(5, 1, 0)</td>  <th>  Log Likelihood     </th> <td>-40179.627</td>\n",
              "</tr>\n",
              "<tr>\n",
              "  <th>Date:</th>            <td>Wed, 05 Jun 2024</td> <th>  AIC                </th>  <td>80371.255</td>\n",
              "</tr>\n",
              "<tr>\n",
              "  <th>Time:</th>                <td>10:49:25</td>     <th>  BIC                </th>  <td>80412.258</td>\n",
              "</tr>\n",
              "<tr>\n",
              "  <th>Sample:</th>                  <td>0</td>        <th>  HQIC               </th>  <td>80385.398</td>\n",
              "</tr>\n",
              "<tr>\n",
              "  <th></th>                      <td> - 6864</td>     <th>                     </th>      <td> </td>    \n",
              "</tr>\n",
              "<tr>\n",
              "  <th>Covariance Type:</th>        <td>opg</td>       <th>                     </th>      <td> </td>    \n",
              "</tr>\n",
              "</table>\n",
              "<table class=\"simpletable\">\n",
              "<tr>\n",
              "     <td></td>       <th>coef</th>     <th>std err</th>      <th>z</th>      <th>P>|z|</th>  <th>[0.025</th>    <th>0.975]</th>  \n",
              "</tr>\n",
              "<tr>\n",
              "  <th>ar.L1</th>  <td>   -0.8050</td> <td>    0.005</td> <td> -168.898</td> <td> 0.000</td> <td>   -0.814</td> <td>   -0.796</td>\n",
              "</tr>\n",
              "<tr>\n",
              "  <th>ar.L2</th>  <td>   -0.6472</td> <td>    0.007</td> <td>  -94.758</td> <td> 0.000</td> <td>   -0.661</td> <td>   -0.634</td>\n",
              "</tr>\n",
              "<tr>\n",
              "  <th>ar.L3</th>  <td>   -0.4993</td> <td>    0.008</td> <td>  -63.675</td> <td> 0.000</td> <td>   -0.515</td> <td>   -0.484</td>\n",
              "</tr>\n",
              "<tr>\n",
              "  <th>ar.L4</th>  <td>   -0.3177</td> <td>    0.007</td> <td>  -43.311</td> <td> 0.000</td> <td>   -0.332</td> <td>   -0.303</td>\n",
              "</tr>\n",
              "<tr>\n",
              "  <th>ar.L5</th>  <td>   -0.1006</td> <td>    0.005</td> <td>  -19.005</td> <td> 0.000</td> <td>   -0.111</td> <td>   -0.090</td>\n",
              "</tr>\n",
              "<tr>\n",
              "  <th>sigma2</th> <td> 7127.7764</td> <td>   44.689</td> <td>  159.497</td> <td> 0.000</td> <td> 7040.187</td> <td> 7215.366</td>\n",
              "</tr>\n",
              "</table>\n",
              "<table class=\"simpletable\">\n",
              "<tr>\n",
              "  <th>Ljung-Box (L1) (Q):</th>     <td>2.32</td>  <th>  Jarque-Bera (JB):  </th> <td>73620.34</td>\n",
              "</tr>\n",
              "<tr>\n",
              "  <th>Prob(Q):</th>                <td>0.13</td>  <th>  Prob(JB):          </th>   <td>0.00</td>  \n",
              "</tr>\n",
              "<tr>\n",
              "  <th>Heteroskedasticity (H):</th> <td>37.24</td> <th>  Skew:              </th>   <td>0.28</td>  \n",
              "</tr>\n",
              "<tr>\n",
              "  <th>Prob(H) (two-sided):</th>    <td>0.00</td>  <th>  Kurtosis:          </th>   <td>19.04</td> \n",
              "</tr>\n",
              "</table><br/><br/>Warnings:<br/>[1] Covariance matrix calculated using the outer product of gradients (complex-step)."
            ],
            "text/latex": "\\begin{center}\n\\begin{tabular}{lclc}\n\\toprule\n\\textbf{Dep. Variable:}          &    Close\\_new    & \\textbf{  No. Observations:  } &    6864     \\\\\n\\textbf{Model:}                  &  ARIMA(5, 1, 0)  & \\textbf{  Log Likelihood     } & -40179.627  \\\\\n\\textbf{Date:}                   & Wed, 05 Jun 2024 & \\textbf{  AIC                } & 80371.255   \\\\\n\\textbf{Time:}                   &     10:49:25     & \\textbf{  BIC                } & 80412.258   \\\\\n\\textbf{Sample:}                 &        0         & \\textbf{  HQIC               } & 80385.398   \\\\\n\\textbf{}                        &      - 6864      & \\textbf{                     } &             \\\\\n\\textbf{Covariance Type:}        &       opg        & \\textbf{                     } &             \\\\\n\\bottomrule\n\\end{tabular}\n\\begin{tabular}{lcccccc}\n                & \\textbf{coef} & \\textbf{std err} & \\textbf{z} & \\textbf{P$> |$z$|$} & \\textbf{[0.025} & \\textbf{0.975]}  \\\\\n\\midrule\n\\textbf{ar.L1}  &      -0.8050  &        0.005     &  -168.898  &         0.000        &       -0.814    &       -0.796     \\\\\n\\textbf{ar.L2}  &      -0.6472  &        0.007     &   -94.758  &         0.000        &       -0.661    &       -0.634     \\\\\n\\textbf{ar.L3}  &      -0.4993  &        0.008     &   -63.675  &         0.000        &       -0.515    &       -0.484     \\\\\n\\textbf{ar.L4}  &      -0.3177  &        0.007     &   -43.311  &         0.000        &       -0.332    &       -0.303     \\\\\n\\textbf{ar.L5}  &      -0.1006  &        0.005     &   -19.005  &         0.000        &       -0.111    &       -0.090     \\\\\n\\textbf{sigma2} &    7127.7764  &       44.689     &   159.497  &         0.000        &     7040.187    &     7215.366     \\\\\n\\bottomrule\n\\end{tabular}\n\\begin{tabular}{lclc}\n\\textbf{Ljung-Box (L1) (Q):}     &  2.32 & \\textbf{  Jarque-Bera (JB):  } & 73620.34  \\\\\n\\textbf{Prob(Q):}                &  0.13 & \\textbf{  Prob(JB):          } &   0.00    \\\\\n\\textbf{Heteroskedasticity (H):} & 37.24 & \\textbf{  Skew:              } &   0.28    \\\\\n\\textbf{Prob(H) (two-sided):}    &  0.00 & \\textbf{  Kurtosis:          } &  19.04    \\\\\n\\bottomrule\n\\end{tabular}\n%\\caption{SARIMAX Results}\n\\end{center}\n\nWarnings: \\newline\n [1] Covariance matrix calculated using the outer product of gradients (complex-step)."
          },
          "metadata": {},
          "execution_count": 18
        }
      ],
      "source": [
        "#training the model\n",
        "model =ARIMA(train['Close_new'],order=(5,1,0))\n",
        "model=model.fit()\n",
        "model.summary()"
      ]
    },
    {
      "cell_type": "code",
      "execution_count": 19,
      "id": "9950396e",
      "metadata": {
        "colab": {
          "base_uri": "https://localhost:8080/"
        },
        "id": "9950396e",
        "outputId": "3170606b-014c-4f84-c449-c2eae9ff28d3"
      },
      "outputs": [
        {
          "output_type": "stream",
          "name": "stdout",
          "text": [
            "6864    24.988759\n",
            "6865    28.569000\n",
            "6866    21.071220\n",
            "6867    -9.022005\n",
            "6868   -31.424376\n",
            "          ...    \n",
            "7259    -6.759397\n",
            "7260    -6.759397\n",
            "7261    -6.759397\n",
            "7262    -6.759397\n",
            "7263    -6.759397\n",
            "Name: predicted_mean, Length: 400, dtype: float64\n",
            "Date\n",
            "2022-08-22    24.988759\n",
            "2022-08-23    28.569000\n",
            "2022-08-24    21.071220\n",
            "2022-08-25    -9.022005\n",
            "2022-08-26   -31.424376\n",
            "                ...    \n",
            "2024-03-22    -6.759397\n",
            "2024-03-26    -6.759397\n",
            "2024-03-27    -6.759397\n",
            "2024-03-28    -6.759397\n",
            "2024-04-01    -6.759397\n",
            "Name: predicted_mean, Length: 400, dtype: float64\n"
          ]
        }
      ],
      "source": [
        "start = len(train)\n",
        "end = len(train) + len(test)-1\n",
        "pred=model.predict(start=start,end=end,type='levels')\n",
        "print(pred)\n",
        "pred.index=df.index[start:end+1]\n",
        "print(pred)"
      ]
    },
    {
      "cell_type": "code",
      "source": [
        "# Evaluate the model\n",
        "mae = mean_absolute_error(test['Close_new'], pred)\n",
        "mse = mean_squared_error(test['Close_new'], pred)\n",
        "rmse = np.sqrt(mse)\n",
        "print(f'MAE: {mae}')\n",
        "print(f'MSE: {mse}')\n",
        "print(f'RMSE: {rmse}')"
      ],
      "metadata": {
        "colab": {
          "base_uri": "https://localhost:8080/"
        },
        "id": "4mMQkd7cA4o5",
        "outputId": "e16934f3-d433-408b-b2f1-1261a9ca7397"
      },
      "id": "4mMQkd7cA4o5",
      "execution_count": 38,
      "outputs": [
        {
          "output_type": "stream",
          "name": "stdout",
          "text": [
            "MAE: 105.94604760909424\n",
            "MSE: 18075.783335546595\n",
            "RMSE: 134.44620982216864\n"
          ]
        }
      ]
    },
    {
      "cell_type": "code",
      "execution_count": 20,
      "id": "1318a5e4",
      "metadata": {
        "colab": {
          "base_uri": "https://localhost:8080/",
          "height": 451
        },
        "id": "1318a5e4",
        "outputId": "04f53396-3b19-4b47-bf4f-5ad051ef5100"
      },
      "outputs": [
        {
          "output_type": "execute_result",
          "data": {
            "text/plain": [
              "<Axes: xlabel='Date'>"
            ]
          },
          "metadata": {},
          "execution_count": 20
        },
        {
          "output_type": "display_data",
          "data": {
            "text/plain": [
              "<Figure size 640x480 with 1 Axes>"
            ],
            "image/png": "[encoded data removed]"
          },
          "metadata": {}
        }
      ],
      "source": [
        "pred.plot(legend=True)\n",
        "test['Close_new'].plot(legend=True)"
      ]
    },
    {
      "cell_type": "code",
      "execution_count": 21,
      "id": "be4c484b-7768-4bda-9110-b107b89b151e",
      "metadata": {
        "id": "be4c484b-7768-4bda-9110-b107b89b151e"
      },
      "outputs": [],
      "source": [
        "new = pred + df[:-400]['Close'].iloc[-1]"
      ]
    },
    {
      "cell_type": "code",
      "execution_count": 22,
      "id": "b9c2e2d4-9f27-44a6-aafe-abb012dc7baf",
      "metadata": {
        "colab": {
          "base_uri": "https://localhost:8080/"
        },
        "id": "b9c2e2d4-9f27-44a6-aafe-abb012dc7baf",
        "outputId": "e3a5bf2c-a790-4ebd-a761-1d90e728f199"
      },
      "outputs": [
        {
          "output_type": "execute_result",
          "data": {
            "text/plain": [
              "Date\n",
              "2022-08-22    17783.438759\n",
              "2022-08-23    17787.019000\n",
              "2022-08-24    17779.521220\n",
              "2022-08-25    17749.427995\n",
              "2022-08-26    17727.025624\n",
              "                  ...     \n",
              "2024-03-22    17751.690603\n",
              "2024-03-26    17751.690603\n",
              "2024-03-27    17751.690603\n",
              "2024-03-28    17751.690603\n",
              "2024-04-01    17751.690603\n",
              "Name: predicted_mean, Length: 400, dtype: float64"
            ]
          },
          "metadata": {},
          "execution_count": 22
        }
      ],
      "source": [
        "new"
      ]
    },
    {
      "cell_type": "code",
      "source": [
        "# Forecast future values\n",
        "future_steps = 100  # Number of future steps to forecast\n",
        "future_pred = model.forecast(steps=future_steps)\n",
        "future_index = pd.date_range(start=df.index[-1], periods=future_steps+1, inclusive='right')\n",
        "future_series = pd.Series(future_pred, index=future_index)\n",
        "\n",
        "# Plot future forecast\n",
        "plt.figure(figsize=(12, 5))\n",
        "plt.plot(df['Close'], label='Historical')\n",
        "plt.plot(new, label='Model Predictions')\n",
        "plt.plot(future_series, label='Future Forecast', linestyle='--')\n",
        "plt.legend()\n",
        "plt.title('NIFTY 50 Close Price and Future Forecast')\n",
        "plt.show()"
      ],
      "metadata": {
        "colab": {
          "base_uri": "https://localhost:8080/",
          "height": 307
        },
        "id": "FxMJoc5oBBpu",
        "outputId": "1b6eef03-af51-4abe-ceb4-9d43317640f6"
      },
      "id": "FxMJoc5oBBpu",
      "execution_count": 40,
      "outputs": [
        {
          "output_type": "display_data",
          "data": {
            "text/plain": [
              "<Figure size 1200x500 with 1 Axes>"
            ],
            "image/png": "[encoded data removed]"
          },
          "metadata": {}
        }
      ]
    }
  ],
  "metadata": {
    "kernelspec": {
      "display_name": "Python 3 (ipykernel)",
      "language": "python",
      "name": "python3"
    },
    "language_info": {
      "codemirror_mode": {
        "name": "ipython",
        "version": 3
      },
      "file_extension": ".py",
      "mimetype": "text/x-python",
      "name": "python",
      "nbconvert_exporter": "python",
      "pygments_lexer": "ipython3",
      "version": "3.11.9"
    },
    "colab": {
      "provenance": []
    }
  },
  "nbformat": 4,
  "nbformat_minor": 5
}